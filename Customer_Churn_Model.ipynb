{
  "nbformat": 4,
  "nbformat_minor": 0,
  "metadata": {
    "colab": {
      "name": "Customer Churn Model.ipynb",
      "provenance": [],
      "authorship_tag": "ABX9TyNsJKlkvNuNNUFj/JfDwKL+",
      "include_colab_link": true
    },
    "kernelspec": {
      "name": "python3",
      "display_name": "Python 3"
    },
    "language_info": {
      "name": "python"
    }
  },
  "cells": [
    {
      "cell_type": "markdown",
      "metadata": {
        "id": "view-in-github",
        "colab_type": "text"
      },
      "source": [
        "<a href=\"https://colab.research.google.com/github/MithunKiniStar/Customer-Churn/blob/main/Customer_Churn_Model.ipynb\" target=\"_parent\"><img src=\"https://colab.research.google.com/assets/colab-badge.svg\" alt=\"Open In Colab\"/></a>"
      ]
    },
    {
      "cell_type": "markdown",
      "source": [
        "Telecom Customer Churn:"
      ],
      "metadata": {
        "id": "hufmqCdaFe7g"
      }
    },
    {
      "cell_type": "markdown",
      "source": [
        "The data set includes information about:\n",
        "\n",
        "\n",
        "*   Customers who left within the last month – the column is called Churn\n",
        "*   Services that each customer has signed up for – phone, multiple lines,   internet, online * security, online backup, device protection, tech support, and streaming TV and movies.\n",
        "*   Customer account information – how long they’ve been a customer, contract, payment method, paperless billing, monthly charges, and total charges\n",
        "*   Demographic info about customers – gender, age range, and if they have partners and dependents\n",
        "*   Churn - dependent feature ('Yes' denotes customers left, 'No' denotes customer stay here)\n",
        "\n",
        "Dataset taken from Kaggle: https://www.kaggle.com/blastchar/telco-customer-chur"
      ],
      "metadata": {
        "id": "4GjJEgzHFpeM"
      }
    },
    {
      "cell_type": "code",
      "execution_count": 37,
      "metadata": {
        "id": "N0V5uaS_sGuK"
      },
      "outputs": [],
      "source": [
        "# Importing  packages\n",
        "import numpy as np \n",
        "import pandas as pd\n",
        "import matplotlib.pyplot as plt\n",
        "%matplotlib inline\n",
        "import seaborn as sns\n",
        "import scipy.stats as stats\n",
        "from sklearn.preprocessing import LabelEncoder\n",
        "from sklearn.model_selection import train_test_split, RandomizedSearchCV\n",
        "from sklearn.metrics import recall_score, accuracy_score, classification_report, confusion_matrix\n",
        "from sklearn.linear_model import LogisticRegression\n",
        "from sklearn.neighbors import KNeighborsClassifier\n",
        "from sklearn.ensemble import RandomForestClassifier, GradientBoostingClassifier\n",
        "from sklearn.tree import DecisionTreeClassifier\n",
        "from imblearn.combine import SMOTEENN\n",
        "from sklearn.feature_selection import SelectKBest\n",
        "from collections import Counter\n",
        "import warnings\n",
        "warnings.filterwarnings('ignore')\n",
        "import matplotlib.ticker as mtick # for showing percentage in it"
      ]
    },
    {
      "cell_type": "code",
      "source": [
        "data = pd.read_csv('Telco-Customer-Churn.csv')\n",
        "data.head()"
      ],
      "metadata": {
        "colab": {
          "base_uri": "https://localhost:8080/",
          "height": 357
        },
        "id": "vgSYSYybGkG-",
        "outputId": "6fdcfe26-70b3-4e4b-ab43-347a10fa88a9"
      },
      "execution_count": 84,
      "outputs": [
        {
          "output_type": "execute_result",
          "data": {
            "text/html": [
              "\n",
              "  <div id=\"df-a90043dc-14df-4724-bd40-588a6e8ca77e\">\n",
              "    <div class=\"colab-df-container\">\n",
              "      <div>\n",
              "<style scoped>\n",
              "    .dataframe tbody tr th:only-of-type {\n",
              "        vertical-align: middle;\n",
              "    }\n",
              "\n",
              "    .dataframe tbody tr th {\n",
              "        vertical-align: top;\n",
              "    }\n",
              "\n",
              "    .dataframe thead th {\n",
              "        text-align: right;\n",
              "    }\n",
              "</style>\n",
              "<table border=\"1\" class=\"dataframe\">\n",
              "  <thead>\n",
              "    <tr style=\"text-align: right;\">\n",
              "      <th></th>\n",
              "      <th>customerID</th>\n",
              "      <th>gender</th>\n",
              "      <th>SeniorCitizen</th>\n",
              "      <th>Partner</th>\n",
              "      <th>Dependents</th>\n",
              "      <th>tenure</th>\n",
              "      <th>PhoneService</th>\n",
              "      <th>MultipleLines</th>\n",
              "      <th>InternetService</th>\n",
              "      <th>OnlineSecurity</th>\n",
              "      <th>OnlineBackup</th>\n",
              "      <th>DeviceProtection</th>\n",
              "      <th>TechSupport</th>\n",
              "      <th>StreamingTV</th>\n",
              "      <th>StreamingMovies</th>\n",
              "      <th>Contract</th>\n",
              "      <th>PaperlessBilling</th>\n",
              "      <th>PaymentMethod</th>\n",
              "      <th>MonthlyCharges</th>\n",
              "      <th>TotalCharges</th>\n",
              "      <th>Churn</th>\n",
              "    </tr>\n",
              "  </thead>\n",
              "  <tbody>\n",
              "    <tr>\n",
              "      <th>0</th>\n",
              "      <td>7590-VHVEG</td>\n",
              "      <td>Female</td>\n",
              "      <td>0</td>\n",
              "      <td>Yes</td>\n",
              "      <td>No</td>\n",
              "      <td>1</td>\n",
              "      <td>No</td>\n",
              "      <td>No phone service</td>\n",
              "      <td>DSL</td>\n",
              "      <td>No</td>\n",
              "      <td>Yes</td>\n",
              "      <td>No</td>\n",
              "      <td>No</td>\n",
              "      <td>No</td>\n",
              "      <td>No</td>\n",
              "      <td>Month-to-month</td>\n",
              "      <td>Yes</td>\n",
              "      <td>Electronic check</td>\n",
              "      <td>29.85</td>\n",
              "      <td>29.85</td>\n",
              "      <td>No</td>\n",
              "    </tr>\n",
              "    <tr>\n",
              "      <th>1</th>\n",
              "      <td>5575-GNVDE</td>\n",
              "      <td>Male</td>\n",
              "      <td>0</td>\n",
              "      <td>No</td>\n",
              "      <td>No</td>\n",
              "      <td>34</td>\n",
              "      <td>Yes</td>\n",
              "      <td>No</td>\n",
              "      <td>DSL</td>\n",
              "      <td>Yes</td>\n",
              "      <td>No</td>\n",
              "      <td>Yes</td>\n",
              "      <td>No</td>\n",
              "      <td>No</td>\n",
              "      <td>No</td>\n",
              "      <td>One year</td>\n",
              "      <td>No</td>\n",
              "      <td>Mailed check</td>\n",
              "      <td>56.95</td>\n",
              "      <td>1889.5</td>\n",
              "      <td>No</td>\n",
              "    </tr>\n",
              "    <tr>\n",
              "      <th>2</th>\n",
              "      <td>3668-QPYBK</td>\n",
              "      <td>Male</td>\n",
              "      <td>0</td>\n",
              "      <td>No</td>\n",
              "      <td>No</td>\n",
              "      <td>2</td>\n",
              "      <td>Yes</td>\n",
              "      <td>No</td>\n",
              "      <td>DSL</td>\n",
              "      <td>Yes</td>\n",
              "      <td>Yes</td>\n",
              "      <td>No</td>\n",
              "      <td>No</td>\n",
              "      <td>No</td>\n",
              "      <td>No</td>\n",
              "      <td>Month-to-month</td>\n",
              "      <td>Yes</td>\n",
              "      <td>Mailed check</td>\n",
              "      <td>53.85</td>\n",
              "      <td>108.15</td>\n",
              "      <td>Yes</td>\n",
              "    </tr>\n",
              "    <tr>\n",
              "      <th>3</th>\n",
              "      <td>7795-CFOCW</td>\n",
              "      <td>Male</td>\n",
              "      <td>0</td>\n",
              "      <td>No</td>\n",
              "      <td>No</td>\n",
              "      <td>45</td>\n",
              "      <td>No</td>\n",
              "      <td>No phone service</td>\n",
              "      <td>DSL</td>\n",
              "      <td>Yes</td>\n",
              "      <td>No</td>\n",
              "      <td>Yes</td>\n",
              "      <td>Yes</td>\n",
              "      <td>No</td>\n",
              "      <td>No</td>\n",
              "      <td>One year</td>\n",
              "      <td>No</td>\n",
              "      <td>Bank transfer (automatic)</td>\n",
              "      <td>42.30</td>\n",
              "      <td>1840.75</td>\n",
              "      <td>No</td>\n",
              "    </tr>\n",
              "    <tr>\n",
              "      <th>4</th>\n",
              "      <td>9237-HQITU</td>\n",
              "      <td>Female</td>\n",
              "      <td>0</td>\n",
              "      <td>No</td>\n",
              "      <td>No</td>\n",
              "      <td>2</td>\n",
              "      <td>Yes</td>\n",
              "      <td>No</td>\n",
              "      <td>Fiber optic</td>\n",
              "      <td>No</td>\n",
              "      <td>No</td>\n",
              "      <td>No</td>\n",
              "      <td>No</td>\n",
              "      <td>No</td>\n",
              "      <td>No</td>\n",
              "      <td>Month-to-month</td>\n",
              "      <td>Yes</td>\n",
              "      <td>Electronic check</td>\n",
              "      <td>70.70</td>\n",
              "      <td>151.65</td>\n",
              "      <td>Yes</td>\n",
              "    </tr>\n",
              "  </tbody>\n",
              "</table>\n",
              "</div>\n",
              "      <button class=\"colab-df-convert\" onclick=\"convertToInteractive('df-a90043dc-14df-4724-bd40-588a6e8ca77e')\"\n",
              "              title=\"Convert this dataframe to an interactive table.\"\n",
              "              style=\"display:none;\">\n",
              "        \n",
              "  <svg xmlns=\"http://www.w3.org/2000/svg\" height=\"24px\"viewBox=\"0 0 24 24\"\n",
              "       width=\"24px\">\n",
              "    <path d=\"M0 0h24v24H0V0z\" fill=\"none\"/>\n",
              "    <path d=\"M18.56 5.44l.94 2.06.94-2.06 2.06-.94-2.06-.94-.94-2.06-.94 2.06-2.06.94zm-11 1L8.5 8.5l.94-2.06 2.06-.94-2.06-.94L8.5 2.5l-.94 2.06-2.06.94zm10 10l.94 2.06.94-2.06 2.06-.94-2.06-.94-.94-2.06-.94 2.06-2.06.94z\"/><path d=\"M17.41 7.96l-1.37-1.37c-.4-.4-.92-.59-1.43-.59-.52 0-1.04.2-1.43.59L10.3 9.45l-7.72 7.72c-.78.78-.78 2.05 0 2.83L4 21.41c.39.39.9.59 1.41.59.51 0 1.02-.2 1.41-.59l7.78-7.78 2.81-2.81c.8-.78.8-2.07 0-2.86zM5.41 20L4 18.59l7.72-7.72 1.47 1.35L5.41 20z\"/>\n",
              "  </svg>\n",
              "      </button>\n",
              "      \n",
              "  <style>\n",
              "    .colab-df-container {\n",
              "      display:flex;\n",
              "      flex-wrap:wrap;\n",
              "      gap: 12px;\n",
              "    }\n",
              "\n",
              "    .colab-df-convert {\n",
              "      background-color: #E8F0FE;\n",
              "      border: none;\n",
              "      border-radius: 50%;\n",
              "      cursor: pointer;\n",
              "      display: none;\n",
              "      fill: #1967D2;\n",
              "      height: 32px;\n",
              "      padding: 0 0 0 0;\n",
              "      width: 32px;\n",
              "    }\n",
              "\n",
              "    .colab-df-convert:hover {\n",
              "      background-color: #E2EBFA;\n",
              "      box-shadow: 0px 1px 2px rgba(60, 64, 67, 0.3), 0px 1px 3px 1px rgba(60, 64, 67, 0.15);\n",
              "      fill: #174EA6;\n",
              "    }\n",
              "\n",
              "    [theme=dark] .colab-df-convert {\n",
              "      background-color: #3B4455;\n",
              "      fill: #D2E3FC;\n",
              "    }\n",
              "\n",
              "    [theme=dark] .colab-df-convert:hover {\n",
              "      background-color: #434B5C;\n",
              "      box-shadow: 0px 1px 3px 1px rgba(0, 0, 0, 0.15);\n",
              "      filter: drop-shadow(0px 1px 2px rgba(0, 0, 0, 0.3));\n",
              "      fill: #FFFFFF;\n",
              "    }\n",
              "  </style>\n",
              "\n",
              "      <script>\n",
              "        const buttonEl =\n",
              "          document.querySelector('#df-a90043dc-14df-4724-bd40-588a6e8ca77e button.colab-df-convert');\n",
              "        buttonEl.style.display =\n",
              "          google.colab.kernel.accessAllowed ? 'block' : 'none';\n",
              "\n",
              "        async function convertToInteractive(key) {\n",
              "          const element = document.querySelector('#df-a90043dc-14df-4724-bd40-588a6e8ca77e');\n",
              "          const dataTable =\n",
              "            await google.colab.kernel.invokeFunction('convertToInteractive',\n",
              "                                                     [key], {});\n",
              "          if (!dataTable) return;\n",
              "\n",
              "          const docLinkHtml = 'Like what you see? Visit the ' +\n",
              "            '<a target=\"_blank\" href=https://colab.research.google.com/notebooks/data_table.ipynb>data table notebook</a>'\n",
              "            + ' to learn more about interactive tables.';\n",
              "          element.innerHTML = '';\n",
              "          dataTable['output_type'] = 'display_data';\n",
              "          await google.colab.output.renderOutput(dataTable, element);\n",
              "          const docLink = document.createElement('div');\n",
              "          docLink.innerHTML = docLinkHtml;\n",
              "          element.appendChild(docLink);\n",
              "        }\n",
              "      </script>\n",
              "    </div>\n",
              "  </div>\n",
              "  "
            ],
            "text/plain": [
              "   customerID  gender  SeniorCitizen  ... MonthlyCharges TotalCharges  Churn\n",
              "0  7590-VHVEG  Female              0  ...          29.85        29.85     No\n",
              "1  5575-GNVDE    Male              0  ...          56.95       1889.5     No\n",
              "2  3668-QPYBK    Male              0  ...          53.85       108.15    Yes\n",
              "3  7795-CFOCW    Male              0  ...          42.30      1840.75     No\n",
              "4  9237-HQITU  Female              0  ...          70.70       151.65    Yes\n",
              "\n",
              "[5 rows x 21 columns]"
            ]
          },
          "metadata": {},
          "execution_count": 84
        }
      ]
    },
    {
      "cell_type": "code",
      "source": [
        "# Features types\n",
        "data.dtypes"
      ],
      "metadata": {
        "colab": {
          "base_uri": "https://localhost:8080/"
        },
        "id": "E0KSHZPTHSqn",
        "outputId": "a370e9ff-641f-446c-d50a-b12e14fb0903"
      },
      "execution_count": 85,
      "outputs": [
        {
          "output_type": "execute_result",
          "data": {
            "text/plain": [
              "customerID           object\n",
              "gender               object\n",
              "SeniorCitizen         int64\n",
              "Partner              object\n",
              "Dependents           object\n",
              "tenure                int64\n",
              "PhoneService         object\n",
              "MultipleLines        object\n",
              "InternetService      object\n",
              "OnlineSecurity       object\n",
              "OnlineBackup         object\n",
              "DeviceProtection     object\n",
              "TechSupport          object\n",
              "StreamingTV          object\n",
              "StreamingMovies      object\n",
              "Contract             object\n",
              "PaperlessBilling     object\n",
              "PaymentMethod        object\n",
              "MonthlyCharges      float64\n",
              "TotalCharges         object\n",
              "Churn                object\n",
              "dtype: object"
            ]
          },
          "metadata": {},
          "execution_count": 85
        }
      ]
    },
    {
      "cell_type": "markdown",
      "source": [
        "In the dataset, we notice that some of the independent features are numerical and most of feature are categorical feature."
      ],
      "metadata": {
        "id": "9vwJSFrUHZ0J"
      }
    },
    {
      "cell_type": "code",
      "source": [
        "# Total charges are in object dtype so convert into Numerical feature \n",
        "data['TotalCharges'] = pd.to_numeric(data['TotalCharges'], errors='coerce')"
      ],
      "metadata": {
        "id": "llTYsjBuHzEz"
      },
      "execution_count": 86,
      "outputs": []
    },
    {
      "cell_type": "markdown",
      "source": [
        "Separating Numerical and Categorical feature"
      ],
      "metadata": {
        "id": "ieS3Afx-ItWb"
      }
    },
    {
      "cell_type": "code",
      "source": [
        "# numerical feature\n",
        "numerical_feature = {feature for feature in data.columns if data[feature].dtypes != 'O'}\n",
        "print(f'Count of Numerical feature: {len(numerical_feature)}')\n",
        "print(f'Numerical feature are:\\n {numerical_feature}')"
      ],
      "metadata": {
        "colab": {
          "base_uri": "https://localhost:8080/"
        },
        "id": "ZdzVFuJdIpvu",
        "outputId": "e65b5ed2-5543-416b-dfa2-87632e183a1e"
      },
      "execution_count": 87,
      "outputs": [
        {
          "output_type": "stream",
          "name": "stdout",
          "text": [
            "Count of Numerical feature: 4\n",
            "Numerical feature are:\n",
            " {'tenure', 'MonthlyCharges', 'SeniorCitizen', 'TotalCharges'}\n"
          ]
        }
      ]
    },
    {
      "cell_type": "code",
      "source": [
        "# Categorical feature\n",
        "categorical_feature = {feature for feature in data.columns if data[feature].dtypes == 'O'}\n",
        "print(f'Count of Categorical feature: {len(categorical_feature)}')\n",
        "print(f'Categorical feature are:\\n {categorical_feature}')"
      ],
      "metadata": {
        "colab": {
          "base_uri": "https://localhost:8080/"
        },
        "id": "SdYrFI6vJRwV",
        "outputId": "4fdbe89d-eedf-4527-ed56-28147c032700"
      },
      "execution_count": 88,
      "outputs": [
        {
          "output_type": "stream",
          "name": "stdout",
          "text": [
            "Count of Categorical feature: 17\n",
            "Categorical feature are:\n",
            " {'Dependents', 'PhoneService', 'gender', 'Churn', 'InternetService', 'PaymentMethod', 'customerID', 'StreamingTV', 'OnlineBackup', 'PaperlessBilling', 'StreamingMovies', 'TechSupport', 'DeviceProtection', 'OnlineSecurity', 'Contract', 'Partner', 'MultipleLines'}\n"
          ]
        }
      ]
    },
    {
      "cell_type": "markdown",
      "source": [
        "EDA"
      ],
      "metadata": {
        "id": "BLud0a3SJbkO"
      }
    },
    {
      "cell_type": "markdown",
      "source": [
        "Check for imbalanced dataset"
      ],
      "metadata": {
        "id": "Y-9OQ5wMJ7vy"
      }
    },
    {
      "cell_type": "code",
      "source": [
        "# plotting with target feature\n",
        "sns.countplot(data=data, x='Churn')\n",
        "plt.title('Count of Churn')\n",
        "plt.show()"
      ],
      "metadata": {
        "colab": {
          "base_uri": "https://localhost:8080/",
          "height": 295
        },
        "id": "MVFVBmxuJXps",
        "outputId": "ab003a89-2b4d-496c-b2f7-ad309309a3f1"
      },
      "execution_count": 43,
      "outputs": [
        {
          "output_type": "display_data",
          "data": {
            "image/png": "[encoded data removed]",
            "text/plain": [
              "<Figure size 432x288 with 1 Axes>"
            ]
          },
          "metadata": {
            "needs_background": "light"
          }
        }
      ]
    },
    {
      "cell_type": "code",
      "source": [
        "l1 = data.loc[data['Churn']== 'Yes'].count()[0]\n",
        "print(f\"Pecentage of Left: {l1/len(data['Churn'])}\")\n",
        "print(data.Churn.value_counts())"
      ],
      "metadata": {
        "colab": {
          "base_uri": "https://localhost:8080/"
        },
        "id": "KerDMlyMJgcs",
        "outputId": "6e22e602-9b5d-4d90-987a-c101f6599493"
      },
      "execution_count": 89,
      "outputs": [
        {
          "output_type": "stream",
          "name": "stdout",
          "text": [
            "Pecentage of Left: 0.2653698707936959\n",
            "No     5174\n",
            "Yes    1869\n",
            "Name: Churn, dtype: int64\n"
          ]
        }
      ]
    },
    {
      "cell_type": "markdown",
      "source": [
        "Its a 26:74 ratio. Hence its an imbalanced dataset."
      ],
      "metadata": {
        "id": "m1yJYHM8KSSP"
      }
    },
    {
      "cell_type": "code",
      "source": [
        "### Loss of amount from customer churn\n",
        "loss = []\n",
        "for values in data.loc[data['Churn'] == 'Yes', 'TotalCharges']:\n",
        "    value = float(values)\n",
        "    loss.append(value)\n",
        "print(np.round(sum(loss)))"
      ],
      "metadata": {
        "colab": {
          "base_uri": "https://localhost:8080/"
        },
        "id": "SC2o1URCJlmp",
        "outputId": "42217f94-3185-41bb-9886-0952166f3ce4"
      },
      "execution_count": 45,
      "outputs": [
        {
          "output_type": "stream",
          "name": "stdout",
          "text": [
            "2862927.0\n"
          ]
        }
      ]
    },
    {
      "cell_type": "markdown",
      "source": [
        "We have lost arround $2862927 due to customer churn"
      ],
      "metadata": {
        "id": "jvSEtaU1LFhm"
      }
    },
    {
      "cell_type": "code",
      "source": [
        "# pie chart for Count of Senior citizens\n",
        "ax = (data['SeniorCitizen'].value_counts()*100.0 /len(data)).plot.pie(autopct='%.1f%%', labels = ['No', 'Yes'],figsize =(5,5), fontsize = 12 )                                                                           \n",
        "ax.yaxis.set_major_formatter(mtick.PercentFormatter())\n",
        "ax.set_ylabel('Senior Citizens',fontsize = 12)\n",
        "ax.set_title('% of Senior Citizens', fontsize = 12)"
      ],
      "metadata": {
        "colab": {
          "base_uri": "https://localhost:8080/",
          "height": 337
        },
        "id": "L471ajWaLSpb",
        "outputId": "64e2017b-c3c2-47af-fd87-e6be7ed904e0"
      },
      "execution_count": 46,
      "outputs": [
        {
          "output_type": "execute_result",
          "data": {
            "text/plain": [
              "Text(0.5, 1.0, '% of Senior Citizens')"
            ]
          },
          "metadata": {},
          "execution_count": 46
        },
        {
          "output_type": "display_data",
          "data": {
            "image/png": "[encoded data removed]",
            "text/plain": [
              "<Figure size 360x360 with 1 Axes>"
            ]
          },
          "metadata": {}
        }
      ]
    },
    {
      "cell_type": "markdown",
      "source": [
        "Only 16.2% customers are senior citizons but remaining 83.8% customers are young"
      ],
      "metadata": {
        "id": "vZI08b-EQARa"
      }
    },
    {
      "cell_type": "markdown",
      "source": [
        "Univariate Analysis:\n"
      ],
      "metadata": {
        "id": "vexumQmgSKoC"
      }
    },
    {
      "cell_type": "code",
      "source": [
        "for i, feature in enumerate(categorical_feature):\n",
        "    if feature != 'TotalCharges' and feature != 'customerID' and feature != 'Churn':\n",
        "        plt.figure(i)\n",
        "        plt.figure(figsize=(12,6))\n",
        "        sns.countplot(data=data, x=feature, hue='Churn')\n",
        "plt.show()\n"
      ],
      "metadata": {
        "colab": {
          "base_uri": "https://localhost:8080/",
          "height": 1000
        },
        "id": "Ht6g7HvYQKRh",
        "outputId": "b5da5c10-fcfa-48ce-a62a-323b332ae734"
      },
      "execution_count": 47,
      "outputs": [
        {
          "output_type": "display_data",
          "data": {
            "text/plain": [
              "<Figure size 432x288 with 0 Axes>"
            ]
          },
          "metadata": {}
        },
        {
          "output_type": "display_data",
          "data": {
            "image/png": "[encoded data removed]",
            "text/plain": [
              "<Figure size 864x432 with 1 Axes>"
            ]
          },
          "metadata": {
            "needs_background": "light"
          }
        },
        {
          "output_type": "display_data",
          "data": {
            "image/png": "[encoded data removed]",
            "text/plain": [
              "<Figure size 864x432 with 1 Axes>"
            ]
          },
          "metadata": {
            "needs_background": "light"
          }
        },
        {
          "output_type": "display_data",
          "data": {
            "image/png": "[encoded data removed]",
            "text/plain": [
              "<Figure size 864x432 with 1 Axes>"
            ]
          },
          "metadata": {
            "needs_background": "light"
          }
        },
        {
          "output_type": "display_data",
          "data": {
            "text/plain": [
              "<Figure size 432x288 with 0 Axes>"
            ]
          },
          "metadata": {}
        },
        {
          "output_type": "display_data",
          "data": {
            "image/png": "[encoded data removed]",
            "text/plain": [
              "<Figure size 864x432 with 1 Axes>"
            ]
          },
          "metadata": {
            "needs_background": "light"
          }
        },
        {
          "output_type": "display_data",
          "data": {
            "image/png": "[encoded data removed]",
            "text/plain": [
              "<Figure size 864x432 with 1 Axes>"
            ]
          },
          "metadata": {
            "needs_background": "light"
          }
        },
        {
          "output_type": "display_data",
          "data": {
            "text/plain": [
              "<Figure size 432x288 with 0 Axes>"
            ]
          },
          "metadata": {}
        },
        {
          "output_type": "display_data",
          "data": {
            "image/png": "[encoded data removed]",
            "text/plain": [
              "<Figure size 864x432 with 1 Axes>"
            ]
          },
          "metadata": {
            "needs_background": "light"
          }
        },
        {
          "output_type": "display_data",
          "data": {
            "image/png": "[encoded data removed]",
            "text/plain": [
              "<Figure size 864x432 with 1 Axes>"
            ]
          },
          "metadata": {
            "needs_background": "light"
          }
        },
        {
          "output_type": "display_data",
          "data": {
            "image/png": "[encoded data removed]",
            "text/plain": [
              "<Figure size 864x432 with 1 Axes>"
            ]
          },
          "metadata": {
            "needs_background": "light"
          }
        },
        {
          "output_type": "display_data",
          "data": {
            "image/png": "[encoded data removed]",
            "text/plain": [
              "<Figure size 864x432 with 1 Axes>"
            ]
          },
          "metadata": {
            "needs_background": "light"
          }
        },
        {
          "output_type": "display_data",
          "data": {
            "image/png": "[encoded data removed]",
            "text/plain": [
              "<Figure size 864x432 with 1 Axes>"
            ]
          },
          "metadata": {
            "needs_background": "light"
          }
        },
        {
          "output_type": "display_data",
          "data": {
            "image/png": "[encoded data removed]",
            "text/plain": [
              "<Figure size 864x432 with 1 Axes>"
            ]
          },
          "metadata": {
            "needs_background": "light"
          }
        },
        {
          "output_type": "display_data",
          "data": {
            "image/png": "[encoded data removed]",
            "text/plain": [
              "<Figure size 864x432 with 1 Axes>"
            ]
          },
          "metadata": {
            "needs_background": "light"
          }
        },
        {
          "output_type": "display_data",
          "data": {
            "image/png": "[encoded data removed]",
            "text/plain": [
              "<Figure size 864x432 with 1 Axes>"
            ]
          },
          "metadata": {
            "needs_background": "light"
          }
        },
        {
          "output_type": "display_data",
          "data": {
            "image/png": "[encoded data removed]",
            "text/plain": [
              "<Figure size 864x432 with 1 Axes>"
            ]
          },
          "metadata": {
            "needs_background": "light"
          }
        },
        {
          "output_type": "display_data",
          "data": {
            "image/png": "[encoded data removed]",
            "text/plain": [
              "<Figure size 864x432 with 1 Axes>"
            ]
          },
          "metadata": {
            "needs_background": "light"
          }
        }
      ]
    },
    {
      "cell_type": "markdown",
      "source": [
        "Following are the features which contribute more for customer churn\n",
        "\n",
        "\n",
        "*   Dependents : No\n",
        "*   Internet Service : Fiber Optic\n",
        "*   Online Backup : No\n",
        "*   Tech support : No\n",
        "*   Device Protection : No\n",
        "*   Online Security : No\n",
        "*   Contract : One Year\n",
        "\n",
        "\n",
        "\n",
        "\n"
      ],
      "metadata": {
        "id": "wgi-yDKITd-D"
      }
    },
    {
      "cell_type": "markdown",
      "source": [
        "Data Cleaning:"
      ],
      "metadata": {
        "id": "aYjVghtjVFmg"
      }
    },
    {
      "cell_type": "code",
      "source": [
        "data.head()"
      ],
      "metadata": {
        "colab": {
          "base_uri": "https://localhost:8080/",
          "height": 357
        },
        "id": "JSs9ZQOKU_oh",
        "outputId": "cef1479a-8e79-4f51-dbf0-c73ca429496a"
      },
      "execution_count": 90,
      "outputs": [
        {
          "output_type": "execute_result",
          "data": {
            "text/html": [
              "\n",
              "  <div id=\"df-1cb945f8-3ff8-40ca-9c50-3db187deffc8\">\n",
              "    <div class=\"colab-df-container\">\n",
              "      <div>\n",
              "<style scoped>\n",
              "    .dataframe tbody tr th:only-of-type {\n",
              "        vertical-align: middle;\n",
              "    }\n",
              "\n",
              "    .dataframe tbody tr th {\n",
              "        vertical-align: top;\n",
              "    }\n",
              "\n",
              "    .dataframe thead th {\n",
              "        text-align: right;\n",
              "    }\n",
              "</style>\n",
              "<table border=\"1\" class=\"dataframe\">\n",
              "  <thead>\n",
              "    <tr style=\"text-align: right;\">\n",
              "      <th></th>\n",
              "      <th>customerID</th>\n",
              "      <th>gender</th>\n",
              "      <th>SeniorCitizen</th>\n",
              "      <th>Partner</th>\n",
              "      <th>Dependents</th>\n",
              "      <th>tenure</th>\n",
              "      <th>PhoneService</th>\n",
              "      <th>MultipleLines</th>\n",
              "      <th>InternetService</th>\n",
              "      <th>OnlineSecurity</th>\n",
              "      <th>OnlineBackup</th>\n",
              "      <th>DeviceProtection</th>\n",
              "      <th>TechSupport</th>\n",
              "      <th>StreamingTV</th>\n",
              "      <th>StreamingMovies</th>\n",
              "      <th>Contract</th>\n",
              "      <th>PaperlessBilling</th>\n",
              "      <th>PaymentMethod</th>\n",
              "      <th>MonthlyCharges</th>\n",
              "      <th>TotalCharges</th>\n",
              "      <th>Churn</th>\n",
              "    </tr>\n",
              "  </thead>\n",
              "  <tbody>\n",
              "    <tr>\n",
              "      <th>0</th>\n",
              "      <td>7590-VHVEG</td>\n",
              "      <td>Female</td>\n",
              "      <td>0</td>\n",
              "      <td>Yes</td>\n",
              "      <td>No</td>\n",
              "      <td>1</td>\n",
              "      <td>No</td>\n",
              "      <td>No phone service</td>\n",
              "      <td>DSL</td>\n",
              "      <td>No</td>\n",
              "      <td>Yes</td>\n",
              "      <td>No</td>\n",
              "      <td>No</td>\n",
              "      <td>No</td>\n",
              "      <td>No</td>\n",
              "      <td>Month-to-month</td>\n",
              "      <td>Yes</td>\n",
              "      <td>Electronic check</td>\n",
              "      <td>29.85</td>\n",
              "      <td>29.85</td>\n",
              "      <td>No</td>\n",
              "    </tr>\n",
              "    <tr>\n",
              "      <th>1</th>\n",
              "      <td>5575-GNVDE</td>\n",
              "      <td>Male</td>\n",
              "      <td>0</td>\n",
              "      <td>No</td>\n",
              "      <td>No</td>\n",
              "      <td>34</td>\n",
              "      <td>Yes</td>\n",
              "      <td>No</td>\n",
              "      <td>DSL</td>\n",
              "      <td>Yes</td>\n",
              "      <td>No</td>\n",
              "      <td>Yes</td>\n",
              "      <td>No</td>\n",
              "      <td>No</td>\n",
              "      <td>No</td>\n",
              "      <td>One year</td>\n",
              "      <td>No</td>\n",
              "      <td>Mailed check</td>\n",
              "      <td>56.95</td>\n",
              "      <td>1889.50</td>\n",
              "      <td>No</td>\n",
              "    </tr>\n",
              "    <tr>\n",
              "      <th>2</th>\n",
              "      <td>3668-QPYBK</td>\n",
              "      <td>Male</td>\n",
              "      <td>0</td>\n",
              "      <td>No</td>\n",
              "      <td>No</td>\n",
              "      <td>2</td>\n",
              "      <td>Yes</td>\n",
              "      <td>No</td>\n",
              "      <td>DSL</td>\n",
              "      <td>Yes</td>\n",
              "      <td>Yes</td>\n",
              "      <td>No</td>\n",
              "      <td>No</td>\n",
              "      <td>No</td>\n",
              "      <td>No</td>\n",
              "      <td>Month-to-month</td>\n",
              "      <td>Yes</td>\n",
              "      <td>Mailed check</td>\n",
              "      <td>53.85</td>\n",
              "      <td>108.15</td>\n",
              "      <td>Yes</td>\n",
              "    </tr>\n",
              "    <tr>\n",
              "      <th>3</th>\n",
              "      <td>7795-CFOCW</td>\n",
              "      <td>Male</td>\n",
              "      <td>0</td>\n",
              "      <td>No</td>\n",
              "      <td>No</td>\n",
              "      <td>45</td>\n",
              "      <td>No</td>\n",
              "      <td>No phone service</td>\n",
              "      <td>DSL</td>\n",
              "      <td>Yes</td>\n",
              "      <td>No</td>\n",
              "      <td>Yes</td>\n",
              "      <td>Yes</td>\n",
              "      <td>No</td>\n",
              "      <td>No</td>\n",
              "      <td>One year</td>\n",
              "      <td>No</td>\n",
              "      <td>Bank transfer (automatic)</td>\n",
              "      <td>42.30</td>\n",
              "      <td>1840.75</td>\n",
              "      <td>No</td>\n",
              "    </tr>\n",
              "    <tr>\n",
              "      <th>4</th>\n",
              "      <td>9237-HQITU</td>\n",
              "      <td>Female</td>\n",
              "      <td>0</td>\n",
              "      <td>No</td>\n",
              "      <td>No</td>\n",
              "      <td>2</td>\n",
              "      <td>Yes</td>\n",
              "      <td>No</td>\n",
              "      <td>Fiber optic</td>\n",
              "      <td>No</td>\n",
              "      <td>No</td>\n",
              "      <td>No</td>\n",
              "      <td>No</td>\n",
              "      <td>No</td>\n",
              "      <td>No</td>\n",
              "      <td>Month-to-month</td>\n",
              "      <td>Yes</td>\n",
              "      <td>Electronic check</td>\n",
              "      <td>70.70</td>\n",
              "      <td>151.65</td>\n",
              "      <td>Yes</td>\n",
              "    </tr>\n",
              "  </tbody>\n",
              "</table>\n",
              "</div>\n",
              "      <button class=\"colab-df-convert\" onclick=\"convertToInteractive('df-1cb945f8-3ff8-40ca-9c50-3db187deffc8')\"\n",
              "              title=\"Convert this dataframe to an interactive table.\"\n",
              "              style=\"display:none;\">\n",
              "        \n",
              "  <svg xmlns=\"http://www.w3.org/2000/svg\" height=\"24px\"viewBox=\"0 0 24 24\"\n",
              "       width=\"24px\">\n",
              "    <path d=\"M0 0h24v24H0V0z\" fill=\"none\"/>\n",
              "    <path d=\"M18.56 5.44l.94 2.06.94-2.06 2.06-.94-2.06-.94-.94-2.06-.94 2.06-2.06.94zm-11 1L8.5 8.5l.94-2.06 2.06-.94-2.06-.94L8.5 2.5l-.94 2.06-2.06.94zm10 10l.94 2.06.94-2.06 2.06-.94-2.06-.94-.94-2.06-.94 2.06-2.06.94z\"/><path d=\"M17.41 7.96l-1.37-1.37c-.4-.4-.92-.59-1.43-.59-.52 0-1.04.2-1.43.59L10.3 9.45l-7.72 7.72c-.78.78-.78 2.05 0 2.83L4 21.41c.39.39.9.59 1.41.59.51 0 1.02-.2 1.41-.59l7.78-7.78 2.81-2.81c.8-.78.8-2.07 0-2.86zM5.41 20L4 18.59l7.72-7.72 1.47 1.35L5.41 20z\"/>\n",
              "  </svg>\n",
              "      </button>\n",
              "      \n",
              "  <style>\n",
              "    .colab-df-container {\n",
              "      display:flex;\n",
              "      flex-wrap:wrap;\n",
              "      gap: 12px;\n",
              "    }\n",
              "\n",
              "    .colab-df-convert {\n",
              "      background-color: #E8F0FE;\n",
              "      border: none;\n",
              "      border-radius: 50%;\n",
              "      cursor: pointer;\n",
              "      display: none;\n",
              "      fill: #1967D2;\n",
              "      height: 32px;\n",
              "      padding: 0 0 0 0;\n",
              "      width: 32px;\n",
              "    }\n",
              "\n",
              "    .colab-df-convert:hover {\n",
              "      background-color: #E2EBFA;\n",
              "      box-shadow: 0px 1px 2px rgba(60, 64, 67, 0.3), 0px 1px 3px 1px rgba(60, 64, 67, 0.15);\n",
              "      fill: #174EA6;\n",
              "    }\n",
              "\n",
              "    [theme=dark] .colab-df-convert {\n",
              "      background-color: #3B4455;\n",
              "      fill: #D2E3FC;\n",
              "    }\n",
              "\n",
              "    [theme=dark] .colab-df-convert:hover {\n",
              "      background-color: #434B5C;\n",
              "      box-shadow: 0px 1px 3px 1px rgba(0, 0, 0, 0.15);\n",
              "      filter: drop-shadow(0px 1px 2px rgba(0, 0, 0, 0.3));\n",
              "      fill: #FFFFFF;\n",
              "    }\n",
              "  </style>\n",
              "\n",
              "      <script>\n",
              "        const buttonEl =\n",
              "          document.querySelector('#df-1cb945f8-3ff8-40ca-9c50-3db187deffc8 button.colab-df-convert');\n",
              "        buttonEl.style.display =\n",
              "          google.colab.kernel.accessAllowed ? 'block' : 'none';\n",
              "\n",
              "        async function convertToInteractive(key) {\n",
              "          const element = document.querySelector('#df-1cb945f8-3ff8-40ca-9c50-3db187deffc8');\n",
              "          const dataTable =\n",
              "            await google.colab.kernel.invokeFunction('convertToInteractive',\n",
              "                                                     [key], {});\n",
              "          if (!dataTable) return;\n",
              "\n",
              "          const docLinkHtml = 'Like what you see? Visit the ' +\n",
              "            '<a target=\"_blank\" href=https://colab.research.google.com/notebooks/data_table.ipynb>data table notebook</a>'\n",
              "            + ' to learn more about interactive tables.';\n",
              "          element.innerHTML = '';\n",
              "          dataTable['output_type'] = 'display_data';\n",
              "          await google.colab.output.renderOutput(dataTable, element);\n",
              "          const docLink = document.createElement('div');\n",
              "          docLink.innerHTML = docLinkHtml;\n",
              "          element.appendChild(docLink);\n",
              "        }\n",
              "      </script>\n",
              "    </div>\n",
              "  </div>\n",
              "  "
            ],
            "text/plain": [
              "   customerID  gender  SeniorCitizen  ... MonthlyCharges TotalCharges  Churn\n",
              "0  7590-VHVEG  Female              0  ...          29.85        29.85     No\n",
              "1  5575-GNVDE    Male              0  ...          56.95      1889.50     No\n",
              "2  3668-QPYBK    Male              0  ...          53.85       108.15    Yes\n",
              "3  7795-CFOCW    Male              0  ...          42.30      1840.75     No\n",
              "4  9237-HQITU  Female              0  ...          70.70       151.65    Yes\n",
              "\n",
              "[5 rows x 21 columns]"
            ]
          },
          "metadata": {},
          "execution_count": 90
        }
      ]
    },
    {
      "cell_type": "markdown",
      "source": [
        "Handling missing data"
      ],
      "metadata": {
        "id": "NSNR29j7WTgq"
      }
    },
    {
      "cell_type": "code",
      "source": [
        "data.isnull().sum()"
      ],
      "metadata": {
        "colab": {
          "base_uri": "https://localhost:8080/"
        },
        "id": "THeAihUQVJ0T",
        "outputId": "743e7f99-4012-41ed-a05b-e954b5f7396a"
      },
      "execution_count": 91,
      "outputs": [
        {
          "output_type": "execute_result",
          "data": {
            "text/plain": [
              "customerID           0\n",
              "gender               0\n",
              "SeniorCitizen        0\n",
              "Partner              0\n",
              "Dependents           0\n",
              "tenure               0\n",
              "PhoneService         0\n",
              "MultipleLines        0\n",
              "InternetService      0\n",
              "OnlineSecurity       0\n",
              "OnlineBackup         0\n",
              "DeviceProtection     0\n",
              "TechSupport          0\n",
              "StreamingTV          0\n",
              "StreamingMovies      0\n",
              "Contract             0\n",
              "PaperlessBilling     0\n",
              "PaymentMethod        0\n",
              "MonthlyCharges       0\n",
              "TotalCharges        11\n",
              "Churn                0\n",
              "dtype: int64"
            ]
          },
          "metadata": {},
          "execution_count": 91
        }
      ]
    },
    {
      "cell_type": "code",
      "source": [
        "# replace NaN values with mean value\n",
        "data.TotalCharges = data.TotalCharges.fillna(data.TotalCharges.median())"
      ],
      "metadata": {
        "id": "TldYuYusVPbc"
      },
      "execution_count": 92,
      "outputs": []
    },
    {
      "cell_type": "code",
      "source": [
        "data.TotalCharges.hist()"
      ],
      "metadata": {
        "colab": {
          "base_uri": "https://localhost:8080/",
          "height": 283
        },
        "id": "z7PbI941Vdl8",
        "outputId": "a8aa57b2-7ae2-44b0-9963-a8c0dd01d366"
      },
      "execution_count": 17,
      "outputs": [
        {
          "output_type": "execute_result",
          "data": {
            "text/plain": [
              "<matplotlib.axes._subplots.AxesSubplot at 0x7f417fd36550>"
            ]
          },
          "metadata": {},
          "execution_count": 17
        },
        {
          "output_type": "display_data",
          "data": {
            "image/png": "[encoded data removed]",
            "text/plain": [
              "<Figure size 432x288 with 1 Axes>"
            ]
          },
          "metadata": {
            "needs_background": "light"
          }
        }
      ]
    },
    {
      "cell_type": "markdown",
      "source": [
        "Perform the Feature Encoding techiniques to convert the categorical feature into numerical feature"
      ],
      "metadata": {
        "id": "HPHbHCLTWhjD"
      }
    },
    {
      "cell_type": "code",
      "source": [
        "print(categorical_feature)"
      ],
      "metadata": {
        "colab": {
          "base_uri": "https://localhost:8080/"
        },
        "id": "oisZmQovV8jq",
        "outputId": "dbf7de00-b8ae-4f89-c6bf-308b35aaf799"
      },
      "execution_count": 74,
      "outputs": [
        {
          "output_type": "stream",
          "name": "stdout",
          "text": [
            "{'Dependents', 'PhoneService', 'gender', 'Churn', 'InternetService', 'PaymentMethod', 'customerID', 'StreamingTV', 'OnlineBackup', 'PaperlessBilling', 'StreamingMovies', 'TechSupport', 'DeviceProtection', 'OnlineSecurity', 'Contract', 'Partner', 'MultipleLines'}\n"
          ]
        }
      ]
    },
    {
      "cell_type": "markdown",
      "source": [
        "Seperate Target Variables"
      ],
      "metadata": {
        "id": "wi1stedRfgkO"
      }
    },
    {
      "cell_type": "code",
      "source": [
        "target = data['Churn']\n",
        "target.head()"
      ],
      "metadata": {
        "colab": {
          "base_uri": "https://localhost:8080/"
        },
        "id": "-9n3GuMXfW_b",
        "outputId": "69438fdd-4413-4c75-b3d7-473d8740cde2"
      },
      "execution_count": 93,
      "outputs": [
        {
          "output_type": "execute_result",
          "data": {
            "text/plain": [
              "0     No\n",
              "1     No\n",
              "2    Yes\n",
              "3     No\n",
              "4    Yes\n",
              "Name: Churn, dtype: object"
            ]
          },
          "metadata": {},
          "execution_count": 93
        }
      ]
    },
    {
      "cell_type": "code",
      "source": [
        "X_enc = pd.get_dummies(data, columns=['Dependents', 'PhoneService', 'gender', 'InternetService', 'PaymentMethod', 'StreamingTV', 'OnlineBackup', 'PaperlessBilling', 'StreamingMovies', 'TechSupport', 'DeviceProtection', 'OnlineSecurity', 'Contract', 'Partner', 'MultipleLines'])\n",
        "mergedata = data.drop(['Dependents', 'PhoneService', 'gender', 'InternetService', 'PaymentMethod', 'StreamingTV', 'OnlineBackup', 'PaperlessBilling', 'StreamingMovies', 'TechSupport', 'DeviceProtection', 'OnlineSecurity', 'Contract', 'Partner', 'MultipleLines'],axis=1)\n",
        "final_data = pd.merge(mergedata,X_enc, on=['customerID','SeniorCitizen','tenure','MonthlyCharges','TotalCharges','Churn'])"
      ],
      "metadata": {
        "id": "O1OaG2vdWoki"
      },
      "execution_count": 124,
      "outputs": []
    },
    {
      "cell_type": "code",
      "source": [
        ""
      ],
      "metadata": {
        "id": "9fj1YtlBpAAZ"
      },
      "execution_count": 125,
      "outputs": []
    },
    {
      "cell_type": "code",
      "source": [
        ""
      ],
      "metadata": {
        "id": "mHBZ4oyhpRLD"
      },
      "execution_count": 125,
      "outputs": []
    },
    {
      "cell_type": "code",
      "source": [
        ""
      ],
      "metadata": {
        "id": "sQRTZ3WopeAK"
      },
      "execution_count": null,
      "outputs": []
    },
    {
      "cell_type": "code",
      "source": [
        "#final_data.drop(columns=['Churn'], inplace=True, axis=1)\n",
        "final_data.info()"
      ],
      "metadata": {
        "colab": {
          "base_uri": "https://localhost:8080/"
        },
        "id": "Vl59VmNHZWc0",
        "outputId": "2e1d5698-b4ee-4ef1-edba-f39cda949bc1"
      },
      "execution_count": 126,
      "outputs": [
        {
          "output_type": "stream",
          "name": "stdout",
          "text": [
            "<class 'pandas.core.frame.DataFrame'>\n",
            "Int64Index: 7043 entries, 0 to 7042\n",
            "Data columns (total 47 columns):\n",
            " #   Column                                   Non-Null Count  Dtype  \n",
            "---  ------                                   --------------  -----  \n",
            " 0   customerID                               7043 non-null   object \n",
            " 1   SeniorCitizen                            7043 non-null   int64  \n",
            " 2   tenure                                   7043 non-null   int64  \n",
            " 3   MonthlyCharges                           7043 non-null   float64\n",
            " 4   TotalCharges                             7043 non-null   float64\n",
            " 5   Churn                                    7043 non-null   object \n",
            " 6   Dependents_No                            7043 non-null   uint8  \n",
            " 7   Dependents_Yes                           7043 non-null   uint8  \n",
            " 8   PhoneService_No                          7043 non-null   uint8  \n",
            " 9   PhoneService_Yes                         7043 non-null   uint8  \n",
            " 10  gender_Female                            7043 non-null   uint8  \n",
            " 11  gender_Male                              7043 non-null   uint8  \n",
            " 12  InternetService_DSL                      7043 non-null   uint8  \n",
            " 13  InternetService_Fiber optic              7043 non-null   uint8  \n",
            " 14  InternetService_No                       7043 non-null   uint8  \n",
            " 15  PaymentMethod_Bank transfer (automatic)  7043 non-null   uint8  \n",
            " 16  PaymentMethod_Credit card (automatic)    7043 non-null   uint8  \n",
            " 17  PaymentMethod_Electronic check           7043 non-null   uint8  \n",
            " 18  PaymentMethod_Mailed check               7043 non-null   uint8  \n",
            " 19  StreamingTV_No                           7043 non-null   uint8  \n",
            " 20  StreamingTV_No internet service          7043 non-null   uint8  \n",
            " 21  StreamingTV_Yes                          7043 non-null   uint8  \n",
            " 22  OnlineBackup_No                          7043 non-null   uint8  \n",
            " 23  OnlineBackup_No internet service         7043 non-null   uint8  \n",
            " 24  OnlineBackup_Yes                         7043 non-null   uint8  \n",
            " 25  PaperlessBilling_No                      7043 non-null   uint8  \n",
            " 26  PaperlessBilling_Yes                     7043 non-null   uint8  \n",
            " 27  StreamingMovies_No                       7043 non-null   uint8  \n",
            " 28  StreamingMovies_No internet service      7043 non-null   uint8  \n",
            " 29  StreamingMovies_Yes                      7043 non-null   uint8  \n",
            " 30  TechSupport_No                           7043 non-null   uint8  \n",
            " 31  TechSupport_No internet service          7043 non-null   uint8  \n",
            " 32  TechSupport_Yes                          7043 non-null   uint8  \n",
            " 33  DeviceProtection_No                      7043 non-null   uint8  \n",
            " 34  DeviceProtection_No internet service     7043 non-null   uint8  \n",
            " 35  DeviceProtection_Yes                     7043 non-null   uint8  \n",
            " 36  OnlineSecurity_No                        7043 non-null   uint8  \n",
            " 37  OnlineSecurity_No internet service       7043 non-null   uint8  \n",
            " 38  OnlineSecurity_Yes                       7043 non-null   uint8  \n",
            " 39  Contract_Month-to-month                  7043 non-null   uint8  \n",
            " 40  Contract_One year                        7043 non-null   uint8  \n",
            " 41  Contract_Two year                        7043 non-null   uint8  \n",
            " 42  Partner_No                               7043 non-null   uint8  \n",
            " 43  Partner_Yes                              7043 non-null   uint8  \n",
            " 44  MultipleLines_No                         7043 non-null   uint8  \n",
            " 45  MultipleLines_No phone service           7043 non-null   uint8  \n",
            " 46  MultipleLines_Yes                        7043 non-null   uint8  \n",
            "dtypes: float64(2), int64(2), object(2), uint8(41)\n",
            "memory usage: 667.2+ KB\n"
          ]
        }
      ]
    },
    {
      "cell_type": "code",
      "source": [
        "encoder = LabelEncoder()\n",
        "target = encoder.fit_transform(target)\n",
        "target = pd.DataFrame(target, columns=['Churn'])\n",
        "target.head()"
      ],
      "metadata": {
        "colab": {
          "base_uri": "https://localhost:8080/",
          "height": 206
        },
        "id": "n0laCIICf23Q",
        "outputId": "641b6873-eaef-4ae7-a8e0-52570cb8f722"
      },
      "execution_count": 127,
      "outputs": [
        {
          "output_type": "execute_result",
          "data": {
            "text/html": [
              "\n",
              "  <div id=\"df-20dd5f08-f512-44fb-ba81-8e86908ed119\">\n",
              "    <div class=\"colab-df-container\">\n",
              "      <div>\n",
              "<style scoped>\n",
              "    .dataframe tbody tr th:only-of-type {\n",
              "        vertical-align: middle;\n",
              "    }\n",
              "\n",
              "    .dataframe tbody tr th {\n",
              "        vertical-align: top;\n",
              "    }\n",
              "\n",
              "    .dataframe thead th {\n",
              "        text-align: right;\n",
              "    }\n",
              "</style>\n",
              "<table border=\"1\" class=\"dataframe\">\n",
              "  <thead>\n",
              "    <tr style=\"text-align: right;\">\n",
              "      <th></th>\n",
              "      <th>Churn</th>\n",
              "    </tr>\n",
              "  </thead>\n",
              "  <tbody>\n",
              "    <tr>\n",
              "      <th>0</th>\n",
              "      <td>0</td>\n",
              "    </tr>\n",
              "    <tr>\n",
              "      <th>1</th>\n",
              "      <td>0</td>\n",
              "    </tr>\n",
              "    <tr>\n",
              "      <th>2</th>\n",
              "      <td>1</td>\n",
              "    </tr>\n",
              "    <tr>\n",
              "      <th>3</th>\n",
              "      <td>0</td>\n",
              "    </tr>\n",
              "    <tr>\n",
              "      <th>4</th>\n",
              "      <td>1</td>\n",
              "    </tr>\n",
              "  </tbody>\n",
              "</table>\n",
              "</div>\n",
              "      <button class=\"colab-df-convert\" onclick=\"convertToInteractive('df-20dd5f08-f512-44fb-ba81-8e86908ed119')\"\n",
              "              title=\"Convert this dataframe to an interactive table.\"\n",
              "              style=\"display:none;\">\n",
              "        \n",
              "  <svg xmlns=\"http://www.w3.org/2000/svg\" height=\"24px\"viewBox=\"0 0 24 24\"\n",
              "       width=\"24px\">\n",
              "    <path d=\"M0 0h24v24H0V0z\" fill=\"none\"/>\n",
              "    <path d=\"M18.56 5.44l.94 2.06.94-2.06 2.06-.94-2.06-.94-.94-2.06-.94 2.06-2.06.94zm-11 1L8.5 8.5l.94-2.06 2.06-.94-2.06-.94L8.5 2.5l-.94 2.06-2.06.94zm10 10l.94 2.06.94-2.06 2.06-.94-2.06-.94-.94-2.06-.94 2.06-2.06.94z\"/><path d=\"M17.41 7.96l-1.37-1.37c-.4-.4-.92-.59-1.43-.59-.52 0-1.04.2-1.43.59L10.3 9.45l-7.72 7.72c-.78.78-.78 2.05 0 2.83L4 21.41c.39.39.9.59 1.41.59.51 0 1.02-.2 1.41-.59l7.78-7.78 2.81-2.81c.8-.78.8-2.07 0-2.86zM5.41 20L4 18.59l7.72-7.72 1.47 1.35L5.41 20z\"/>\n",
              "  </svg>\n",
              "      </button>\n",
              "      \n",
              "  <style>\n",
              "    .colab-df-container {\n",
              "      display:flex;\n",
              "      flex-wrap:wrap;\n",
              "      gap: 12px;\n",
              "    }\n",
              "\n",
              "    .colab-df-convert {\n",
              "      background-color: #E8F0FE;\n",
              "      border: none;\n",
              "      border-radius: 50%;\n",
              "      cursor: pointer;\n",
              "      display: none;\n",
              "      fill: #1967D2;\n",
              "      height: 32px;\n",
              "      padding: 0 0 0 0;\n",
              "      width: 32px;\n",
              "    }\n",
              "\n",
              "    .colab-df-convert:hover {\n",
              "      background-color: #E2EBFA;\n",
              "      box-shadow: 0px 1px 2px rgba(60, 64, 67, 0.3), 0px 1px 3px 1px rgba(60, 64, 67, 0.15);\n",
              "      fill: #174EA6;\n",
              "    }\n",
              "\n",
              "    [theme=dark] .colab-df-convert {\n",
              "      background-color: #3B4455;\n",
              "      fill: #D2E3FC;\n",
              "    }\n",
              "\n",
              "    [theme=dark] .colab-df-convert:hover {\n",
              "      background-color: #434B5C;\n",
              "      box-shadow: 0px 1px 3px 1px rgba(0, 0, 0, 0.15);\n",
              "      filter: drop-shadow(0px 1px 2px rgba(0, 0, 0, 0.3));\n",
              "      fill: #FFFFFF;\n",
              "    }\n",
              "  </style>\n",
              "\n",
              "      <script>\n",
              "        const buttonEl =\n",
              "          document.querySelector('#df-20dd5f08-f512-44fb-ba81-8e86908ed119 button.colab-df-convert');\n",
              "        buttonEl.style.display =\n",
              "          google.colab.kernel.accessAllowed ? 'block' : 'none';\n",
              "\n",
              "        async function convertToInteractive(key) {\n",
              "          const element = document.querySelector('#df-20dd5f08-f512-44fb-ba81-8e86908ed119');\n",
              "          const dataTable =\n",
              "            await google.colab.kernel.invokeFunction('convertToInteractive',\n",
              "                                                     [key], {});\n",
              "          if (!dataTable) return;\n",
              "\n",
              "          const docLinkHtml = 'Like what you see? Visit the ' +\n",
              "            '<a target=\"_blank\" href=https://colab.research.google.com/notebooks/data_table.ipynb>data table notebook</a>'\n",
              "            + ' to learn more about interactive tables.';\n",
              "          element.innerHTML = '';\n",
              "          dataTable['output_type'] = 'display_data';\n",
              "          await google.colab.output.renderOutput(dataTable, element);\n",
              "          const docLink = document.createElement('div');\n",
              "          docLink.innerHTML = docLinkHtml;\n",
              "          element.appendChild(docLink);\n",
              "        }\n",
              "      </script>\n",
              "    </div>\n",
              "  </div>\n",
              "  "
            ],
            "text/plain": [
              "   Churn\n",
              "0      0\n",
              "1      0\n",
              "2      1\n",
              "3      0\n",
              "4      1"
            ]
          },
          "metadata": {},
          "execution_count": 127
        }
      ]
    },
    {
      "cell_type": "code",
      "source": [
        "final_data.drop(columns=['Churn'],axis=1,inplace=True)\n",
        "final_data = pd.concat([final_data,pd.DataFrame(target)], axis=1)"
      ],
      "metadata": {
        "id": "XZFoOYcVfxQZ"
      },
      "execution_count": 135,
      "outputs": []
    },
    {
      "cell_type": "code",
      "source": [
        "final_data.info()"
      ],
      "metadata": {
        "colab": {
          "base_uri": "https://localhost:8080/"
        },
        "id": "hhXtbJZXe2Ka",
        "outputId": "d774a553-8fb1-4c8f-e6bc-3bb1db9c82dc"
      },
      "execution_count": 136,
      "outputs": [
        {
          "output_type": "stream",
          "name": "stdout",
          "text": [
            "<class 'pandas.core.frame.DataFrame'>\n",
            "Int64Index: 7043 entries, 0 to 7042\n",
            "Data columns (total 47 columns):\n",
            " #   Column                                   Non-Null Count  Dtype  \n",
            "---  ------                                   --------------  -----  \n",
            " 0   customerID                               7043 non-null   object \n",
            " 1   SeniorCitizen                            7043 non-null   int64  \n",
            " 2   tenure                                   7043 non-null   int64  \n",
            " 3   MonthlyCharges                           7043 non-null   float64\n",
            " 4   TotalCharges                             7043 non-null   float64\n",
            " 5   Dependents_No                            7043 non-null   uint8  \n",
            " 6   Dependents_Yes                           7043 non-null   uint8  \n",
            " 7   PhoneService_No                          7043 non-null   uint8  \n",
            " 8   PhoneService_Yes                         7043 non-null   uint8  \n",
            " 9   gender_Female                            7043 non-null   uint8  \n",
            " 10  gender_Male                              7043 non-null   uint8  \n",
            " 11  InternetService_DSL                      7043 non-null   uint8  \n",
            " 12  InternetService_Fiber optic              7043 non-null   uint8  \n",
            " 13  InternetService_No                       7043 non-null   uint8  \n",
            " 14  PaymentMethod_Bank transfer (automatic)  7043 non-null   uint8  \n",
            " 15  PaymentMethod_Credit card (automatic)    7043 non-null   uint8  \n",
            " 16  PaymentMethod_Electronic check           7043 non-null   uint8  \n",
            " 17  PaymentMethod_Mailed check               7043 non-null   uint8  \n",
            " 18  StreamingTV_No                           7043 non-null   uint8  \n",
            " 19  StreamingTV_No internet service          7043 non-null   uint8  \n",
            " 20  StreamingTV_Yes                          7043 non-null   uint8  \n",
            " 21  OnlineBackup_No                          7043 non-null   uint8  \n",
            " 22  OnlineBackup_No internet service         7043 non-null   uint8  \n",
            " 23  OnlineBackup_Yes                         7043 non-null   uint8  \n",
            " 24  PaperlessBilling_No                      7043 non-null   uint8  \n",
            " 25  PaperlessBilling_Yes                     7043 non-null   uint8  \n",
            " 26  StreamingMovies_No                       7043 non-null   uint8  \n",
            " 27  StreamingMovies_No internet service      7043 non-null   uint8  \n",
            " 28  StreamingMovies_Yes                      7043 non-null   uint8  \n",
            " 29  TechSupport_No                           7043 non-null   uint8  \n",
            " 30  TechSupport_No internet service          7043 non-null   uint8  \n",
            " 31  TechSupport_Yes                          7043 non-null   uint8  \n",
            " 32  DeviceProtection_No                      7043 non-null   uint8  \n",
            " 33  DeviceProtection_No internet service     7043 non-null   uint8  \n",
            " 34  DeviceProtection_Yes                     7043 non-null   uint8  \n",
            " 35  OnlineSecurity_No                        7043 non-null   uint8  \n",
            " 36  OnlineSecurity_No internet service       7043 non-null   uint8  \n",
            " 37  OnlineSecurity_Yes                       7043 non-null   uint8  \n",
            " 38  Contract_Month-to-month                  7043 non-null   uint8  \n",
            " 39  Contract_One year                        7043 non-null   uint8  \n",
            " 40  Contract_Two year                        7043 non-null   uint8  \n",
            " 41  Partner_No                               7043 non-null   uint8  \n",
            " 42  Partner_Yes                              7043 non-null   uint8  \n",
            " 43  MultipleLines_No                         7043 non-null   uint8  \n",
            " 44  MultipleLines_No phone service           7043 non-null   uint8  \n",
            " 45  MultipleLines_Yes                        7043 non-null   uint8  \n",
            " 46  Churn                                    7043 non-null   int64  \n",
            "dtypes: float64(2), int64(3), object(1), uint8(41)\n",
            "memory usage: 667.2+ KB\n"
          ]
        }
      ]
    },
    {
      "cell_type": "code",
      "source": [
        ""
      ],
      "metadata": {
        "id": "XYW0a7KieTBd"
      },
      "execution_count": 56,
      "outputs": []
    },
    {
      "cell_type": "code",
      "source": [
        "#Get Correlation of \"Churn\" with other variables:\n",
        "plt.figure(figsize=(15,8))\n",
        "final_data.corr()['Churn'].sort_values(ascending = False).plot(kind='bar')"
      ],
      "metadata": {
        "colab": {
          "base_uri": "https://localhost:8080/",
          "height": 706
        },
        "id": "zz5cA_mvebof",
        "outputId": "2245599f-ea2b-40d1-e05b-ca39e7367a69"
      },
      "execution_count": 137,
      "outputs": [
        {
          "output_type": "execute_result",
          "data": {
            "text/plain": [
              "<matplotlib.axes._subplots.AxesSubplot at 0x7f4177ba0490>"
            ]
          },
          "metadata": {},
          "execution_count": 137
        },
        {
          "output_type": "display_data",
          "data": {
            "image/png": "[encoded data removed]",
            "text/plain": [
              "<Figure size 1080x576 with 1 Axes>"
            ]
          },
          "metadata": {
            "needs_background": "light"
          }
        }
      ]
    },
    {
      "cell_type": "code",
      "source": [
        "# Finding the correlation between the independent and dependent feature\n",
        "# plt.figure(figsize=(20, 20))\n",
        "# sns.heatmap(final_data.corr(), annot=True)"
      ],
      "metadata": {
        "id": "Vk_iUDV6kMs5"
      },
      "execution_count": 108,
      "outputs": []
    },
    {
      "cell_type": "markdown",
      "source": [
        "Splitting the dataset into train and test"
      ],
      "metadata": {
        "id": "sNumik68kzq0"
      }
    },
    {
      "cell_type": "code",
      "source": [
        "# splitting dataset into dependent and independent feature\n",
        "X = final_data.drop(columns=['Churn','customerID'])\n",
        "y = final_data['Churn']"
      ],
      "metadata": {
        "id": "G_FKW1Rlki1f"
      },
      "execution_count": 143,
      "outputs": []
    },
    {
      "cell_type": "code",
      "source": [
        "X.info()"
      ],
      "metadata": {
        "colab": {
          "base_uri": "https://localhost:8080/"
        },
        "id": "9CK8nhpflkOY",
        "outputId": "2fa754bb-b0df-45a2-c64c-77cdfdd92147"
      },
      "execution_count": 145,
      "outputs": [
        {
          "output_type": "stream",
          "name": "stdout",
          "text": [
            "<class 'pandas.core.frame.DataFrame'>\n",
            "Int64Index: 7043 entries, 0 to 7042\n",
            "Data columns (total 45 columns):\n",
            " #   Column                                   Non-Null Count  Dtype  \n",
            "---  ------                                   --------------  -----  \n",
            " 0   SeniorCitizen                            7043 non-null   int64  \n",
            " 1   tenure                                   7043 non-null   int64  \n",
            " 2   MonthlyCharges                           7043 non-null   float64\n",
            " 3   TotalCharges                             7043 non-null   float64\n",
            " 4   Dependents_No                            7043 non-null   uint8  \n",
            " 5   Dependents_Yes                           7043 non-null   uint8  \n",
            " 6   PhoneService_No                          7043 non-null   uint8  \n",
            " 7   PhoneService_Yes                         7043 non-null   uint8  \n",
            " 8   gender_Female                            7043 non-null   uint8  \n",
            " 9   gender_Male                              7043 non-null   uint8  \n",
            " 10  InternetService_DSL                      7043 non-null   uint8  \n",
            " 11  InternetService_Fiber optic              7043 non-null   uint8  \n",
            " 12  InternetService_No                       7043 non-null   uint8  \n",
            " 13  PaymentMethod_Bank transfer (automatic)  7043 non-null   uint8  \n",
            " 14  PaymentMethod_Credit card (automatic)    7043 non-null   uint8  \n",
            " 15  PaymentMethod_Electronic check           7043 non-null   uint8  \n",
            " 16  PaymentMethod_Mailed check               7043 non-null   uint8  \n",
            " 17  StreamingTV_No                           7043 non-null   uint8  \n",
            " 18  StreamingTV_No internet service          7043 non-null   uint8  \n",
            " 19  StreamingTV_Yes                          7043 non-null   uint8  \n",
            " 20  OnlineBackup_No                          7043 non-null   uint8  \n",
            " 21  OnlineBackup_No internet service         7043 non-null   uint8  \n",
            " 22  OnlineBackup_Yes                         7043 non-null   uint8  \n",
            " 23  PaperlessBilling_No                      7043 non-null   uint8  \n",
            " 24  PaperlessBilling_Yes                     7043 non-null   uint8  \n",
            " 25  StreamingMovies_No                       7043 non-null   uint8  \n",
            " 26  StreamingMovies_No internet service      7043 non-null   uint8  \n",
            " 27  StreamingMovies_Yes                      7043 non-null   uint8  \n",
            " 28  TechSupport_No                           7043 non-null   uint8  \n",
            " 29  TechSupport_No internet service          7043 non-null   uint8  \n",
            " 30  TechSupport_Yes                          7043 non-null   uint8  \n",
            " 31  DeviceProtection_No                      7043 non-null   uint8  \n",
            " 32  DeviceProtection_No internet service     7043 non-null   uint8  \n",
            " 33  DeviceProtection_Yes                     7043 non-null   uint8  \n",
            " 34  OnlineSecurity_No                        7043 non-null   uint8  \n",
            " 35  OnlineSecurity_No internet service       7043 non-null   uint8  \n",
            " 36  OnlineSecurity_Yes                       7043 non-null   uint8  \n",
            " 37  Contract_Month-to-month                  7043 non-null   uint8  \n",
            " 38  Contract_One year                        7043 non-null   uint8  \n",
            " 39  Contract_Two year                        7043 non-null   uint8  \n",
            " 40  Partner_No                               7043 non-null   uint8  \n",
            " 41  Partner_Yes                              7043 non-null   uint8  \n",
            " 42  MultipleLines_No                         7043 non-null   uint8  \n",
            " 43  MultipleLines_No phone service           7043 non-null   uint8  \n",
            " 44  MultipleLines_Yes                        7043 non-null   uint8  \n",
            "dtypes: float64(2), int64(2), uint8(41)\n",
            "memory usage: 557.1 KB\n"
          ]
        }
      ]
    },
    {
      "cell_type": "markdown",
      "source": [
        "**Feature Selection**"
      ],
      "metadata": {
        "id": "RrVoIxf1tO_3"
      }
    },
    {
      "cell_type": "markdown",
      "source": [
        "From sklearn using feature selection modules importing the SelectKBest to select the important feature"
      ],
      "metadata": {
        "id": "xnzf17WitWcJ"
      }
    },
    {
      "cell_type": "code",
      "source": [
        "# selects the feature which has more correlation\n",
        "selection = SelectKBest()  # k=10 default\n",
        "X = selection.fit_transform(X,y)\n"
      ],
      "metadata": {
        "id": "31ujo7OJk6fT"
      },
      "execution_count": 140,
      "outputs": []
    },
    {
      "cell_type": "code",
      "source": [
        "selection.get_support()"
      ],
      "metadata": {
        "colab": {
          "base_uri": "https://localhost:8080/"
        },
        "id": "5qMhwn6YmDOu",
        "outputId": "4f2ca24f-7000-4122-9a03-ea8a774007db"
      },
      "execution_count": 146,
      "outputs": [
        {
          "output_type": "execute_result",
          "data": {
            "text/plain": [
              "array([False,  True, False, False, False, False, False, False, False,\n",
              "       False, False,  True, False, False, False,  True, False, False,\n",
              "       False, False,  True, False, False, False, False, False, False,\n",
              "       False,  True, False, False,  True, False, False,  True,  True,\n",
              "       False,  True, False,  True, False, False, False, False, False])"
            ]
          },
          "metadata": {},
          "execution_count": 146
        }
      ]
    },
    {
      "cell_type": "markdown",
      "source": [
        "According to the feature selection, we selects the 10 out of 53 features. these are the 10 features are selected [ tenure, InternetService_Fiber optic, PaymentMethod_Electronic check, OnlineBackup_No, TechSupport_No, DeviceProtection_No, OnlineSecurity_No ,OnlineSecurity_No internet service, Contract_Month-to-month]\n",
        "\n"
      ],
      "metadata": {
        "id": "XXkPGfiQmVsf"
      }
    },
    {
      "cell_type": "code",
      "source": [
        "# splitting for train and test\n",
        "X_train, X_test, y_train, y_test = train_test_split(X, y, test_size=0.2)"
      ],
      "metadata": {
        "id": "8Wwj3ZsFmMw7"
      },
      "execution_count": 147,
      "outputs": []
    },
    {
      "cell_type": "code",
      "source": [
        "y.value_counts()"
      ],
      "metadata": {
        "colab": {
          "base_uri": "https://localhost:8080/"
        },
        "id": "wzM2ot_StckE",
        "outputId": "d1151554-8036-4ab4-ffad-f265596e3fcd"
      },
      "execution_count": 148,
      "outputs": [
        {
          "output_type": "execute_result",
          "data": {
            "text/plain": [
              "0    5174\n",
              "1    1869\n",
              "Name: Churn, dtype: int64"
            ]
          },
          "metadata": {},
          "execution_count": 148
        }
      ]
    },
    {
      "cell_type": "markdown",
      "source": [
        "Its an imbalanced dataset"
      ],
      "metadata": {
        "id": "7_F7bVO1tgDf"
      }
    },
    {
      "cell_type": "markdown",
      "source": [
        "Apply machine learning algorithm:\n"
      ],
      "metadata": {
        "id": "Vbvn3V4xx0GJ"
      }
    },
    {
      "cell_type": "code",
      "source": [
        "# decisionTree Classifier\n",
        "Dtc = DecisionTreeClassifier(criterion='gini', splitter='random', min_samples_leaf=15)\n",
        "Dtc.fit(X_train, y_train)\n",
        "dtc_pred = Dtc.predict(X_test)\n",
        "\n",
        "print(f'Accuracy score : {accuracy_score(dtc_pred, y_test)}')\n",
        "print(f'Confusion matrix :\\n {confusion_matrix(dtc_pred, y_test)}')\n",
        "print(f'Classification report :\\n {classification_report(dtc_pred, y_test)}')"
      ],
      "metadata": {
        "colab": {
          "base_uri": "https://localhost:8080/"
        },
        "id": "U1SxGVFmxy8-",
        "outputId": "9b4d7496-e6a0-4a7d-b411-1e90fb33bd58"
      },
      "execution_count": 149,
      "outputs": [
        {
          "output_type": "stream",
          "name": "stdout",
          "text": [
            "Accuracy score : 0.7771469127040455\n",
            "Confusion matrix :\n",
            " [[923 183]\n",
            " [131 172]]\n",
            "Classification report :\n",
            "               precision    recall  f1-score   support\n",
            "\n",
            "           0       0.88      0.83      0.85      1106\n",
            "           1       0.48      0.57      0.52       303\n",
            "\n",
            "    accuracy                           0.78      1409\n",
            "   macro avg       0.68      0.70      0.69      1409\n",
            "weighted avg       0.79      0.78      0.78      1409\n",
            "\n"
          ]
        }
      ]
    },
    {
      "cell_type": "code",
      "source": [
        "# Random forest classifier\n",
        "Rfc = RandomForestClassifier(n_estimators=120,criterion='gini', max_depth=15, min_samples_leaf=10, min_samples_split=5)\n",
        "Rfc.fit(X_train, y_train)\n",
        "rfc_pred = Rfc.predict(X_test)\n",
        "\n",
        "print(f'Accuracy score : {accuracy_score(rfc_pred, y_test)}')\n",
        "print(f'Confusion matrix :\\n {confusion_matrix(rfc_pred, y_test)}')\n",
        "print(f'Classification report :\\n {classification_report(rfc_pred, y_test)}')"
      ],
      "metadata": {
        "colab": {
          "base_uri": "https://localhost:8080/"
        },
        "id": "DG69HUIKyKUE",
        "outputId": "5080a86d-6a4a-4838-a2d7-0e25cd90c685"
      },
      "execution_count": 150,
      "outputs": [
        {
          "output_type": "stream",
          "name": "stdout",
          "text": [
            "Accuracy score : 0.7828246983676366\n",
            "Confusion matrix :\n",
            " [[936 188]\n",
            " [118 167]]\n",
            "Classification report :\n",
            "               precision    recall  f1-score   support\n",
            "\n",
            "           0       0.89      0.83      0.86      1124\n",
            "           1       0.47      0.59      0.52       285\n",
            "\n",
            "    accuracy                           0.78      1409\n",
            "   macro avg       0.68      0.71      0.69      1409\n",
            "weighted avg       0.80      0.78      0.79      1409\n",
            "\n"
          ]
        }
      ]
    },
    {
      "cell_type": "markdown",
      "source": [
        "Handling imbalance dataset using SMOTEENN :"
      ],
      "metadata": {
        "id": "_-5pC3jpycTE"
      }
    },
    {
      "cell_type": "code",
      "source": [
        "st=SMOTEENN()\n",
        "X_train_st,y_train_st = st.fit_resample(X_train, y_train)\n",
        "print(\"The number of classes before fit {}\".format(Counter(y_train)))\n",
        "print(\"The number of classes after fit {}\".format(Counter(y_train_st)))"
      ],
      "metadata": {
        "colab": {
          "base_uri": "https://localhost:8080/"
        },
        "id": "glOx2iySyPXO",
        "outputId": "a0e2cbcc-221e-4958-d814-f1bdf36a8b68"
      },
      "execution_count": 151,
      "outputs": [
        {
          "output_type": "stream",
          "name": "stdout",
          "text": [
            "The number of classes before fit Counter({0: 4120, 1: 1514})\n",
            "The number of classes after fit Counter({1: 2454, 0: 2135})\n"
          ]
        }
      ]
    },
    {
      "cell_type": "code",
      "source": [
        "# splitting the over sampling dataset \n",
        "X_train_sap, X_test_sap, y_train_sap, y_test_sap = train_test_split(X_train_st, y_train_st, test_size=0.2)"
      ],
      "metadata": {
        "id": "Evr3QZKKzKDO"
      },
      "execution_count": 152,
      "outputs": []
    },
    {
      "cell_type": "code",
      "source": [
        "# decisionTree Classifier\n",
        "Dtc_sampling = DecisionTreeClassifier(criterion = \"gini\",random_state = 100,max_depth=7, min_samples_leaf=15)\n",
        "Dtc_sampling.fit(X_train_sap, y_train_sap)\n",
        "dtc_sampling_pred = Dtc_sampling.predict(X_test_sap)\n",
        "\n",
        "print(f'Accuracy score : {accuracy_score(dtc_sampling_pred, y_test_sap)}')\n",
        "print(f'Confusion matrix :\\n {confusion_matrix(dtc_sampling_pred, y_test_sap)}')\n",
        "print(f'Classification report :\\n {classification_report(dtc_sampling_pred, y_test_sap)}')"
      ],
      "metadata": {
        "colab": {
          "base_uri": "https://localhost:8080/"
        },
        "id": "B7a6sNrGzN4w",
        "outputId": "663fb605-ef93-46e5-d7ea-2355a07d5f2c"
      },
      "execution_count": 153,
      "outputs": [
        {
          "output_type": "stream",
          "name": "stdout",
          "text": [
            "Accuracy score : 0.9422657952069716\n",
            "Confusion matrix :\n",
            " [[400  19]\n",
            " [ 34 465]]\n",
            "Classification report :\n",
            "               precision    recall  f1-score   support\n",
            "\n",
            "           0       0.92      0.95      0.94       419\n",
            "           1       0.96      0.93      0.95       499\n",
            "\n",
            "    accuracy                           0.94       918\n",
            "   macro avg       0.94      0.94      0.94       918\n",
            "weighted avg       0.94      0.94      0.94       918\n",
            "\n"
          ]
        }
      ]
    },
    {
      "cell_type": "code",
      "source": [
        "# Random forest classifier\n",
        "Rfc_sampling = RandomForestClassifier(n_estimators=150,criterion='gini', max_depth=15, min_samples_leaf=10, min_samples_split=6)\n",
        "Rfc_sampling.fit(X_train_sap, y_train_sap)\n",
        "rfc_sampling_pred = Rfc_sampling.predict(X_test_sap)\n",
        "\n",
        "print(f'Accuracy score : {accuracy_score(rfc_sampling_pred, y_test_sap)}')\n",
        "print(f'Confusion matrix :\\n {confusion_matrix(rfc_sampling_pred, y_test_sap)}')\n",
        "print(f'Classification report :\\n {classification_report(rfc_sampling_pred, y_test_sap)}')"
      ],
      "metadata": {
        "colab": {
          "base_uri": "https://localhost:8080/"
        },
        "id": "I02rKBMAzSJs",
        "outputId": "8f8ebc11-6656-41f7-c00b-03c1e0b37a80"
      },
      "execution_count": 154,
      "outputs": [
        {
          "output_type": "stream",
          "name": "stdout",
          "text": [
            "Accuracy score : 0.9455337690631809\n",
            "Confusion matrix :\n",
            " [[403  19]\n",
            " [ 31 465]]\n",
            "Classification report :\n",
            "               precision    recall  f1-score   support\n",
            "\n",
            "           0       0.93      0.95      0.94       422\n",
            "           1       0.96      0.94      0.95       496\n",
            "\n",
            "    accuracy                           0.95       918\n",
            "   macro avg       0.94      0.95      0.95       918\n",
            "weighted avg       0.95      0.95      0.95       918\n",
            "\n"
          ]
        }
      ]
    },
    {
      "cell_type": "code",
      "source": [
        "# GradientBoostingClassifier\n",
        "gbc = GradientBoostingClassifier()\n",
        "gbc.fit(X_train_sap, y_train_sap)\n",
        "pred = gbc.predict(X_test_sap)\n",
        "\n",
        "print(f'Accuracy score : {accuracy_score(pred, y_test_sap)}')\n",
        "print(f'Confusion matrix :\\n {confusion_matrix(pred, y_test_sap)}')\n",
        "print(f'Classification report :\\n {classification_report(pred, y_test_sap)}')"
      ],
      "metadata": {
        "colab": {
          "base_uri": "https://localhost:8080/"
        },
        "id": "rEGuoAzyz53X",
        "outputId": "d78e42d2-e613-40cb-8cf5-8bc7a1eab237"
      },
      "execution_count": 155,
      "outputs": [
        {
          "output_type": "stream",
          "name": "stdout",
          "text": [
            "Accuracy score : 0.9509803921568627\n",
            "Confusion matrix :\n",
            " [[410  21]\n",
            " [ 24 463]]\n",
            "Classification report :\n",
            "               precision    recall  f1-score   support\n",
            "\n",
            "           0       0.94      0.95      0.95       431\n",
            "           1       0.96      0.95      0.95       487\n",
            "\n",
            "    accuracy                           0.95       918\n",
            "   macro avg       0.95      0.95      0.95       918\n",
            "weighted avg       0.95      0.95      0.95       918\n",
            "\n"
          ]
        }
      ]
    },
    {
      "cell_type": "markdown",
      "source": [
        "After using SMOOTEENN methods to perform over sampling and down sampling with edited nearest neighbours its observed that we get bet accuraccy and TP FP ratio. Also since TP FP ratio is better in GradientBoostClassifier so performing HyperParameter Tunning for this model.\n",
        "\n"
      ],
      "metadata": {
        "id": "cXIuxRkJ0bbi"
      }
    },
    {
      "cell_type": "code",
      "source": [
        "param_grid = {'n_estimators':[100, 150, 200, 250, 300],\n",
        "             'criterion': ['friedman_mse', 'squared_error', 'mse', 'mae'],\n",
        "             'min_samples_split': [2,3,4,5,6,7,8,9,10],\n",
        "             'min_samples_leaf': [1,3,5,7,9,11,13,15],'max_leaf_nodes': [3,6,8,9,12,15,18,24],\n",
        "              'max_depth': [3,5,7,9,11,13,15,17,19],\n",
        "              'learning_rate': [0.05, 0.1, 0.2, 0.3, 0.4, 0.5],\n",
        "              'loss': ['deviance', 'exponential']\n",
        "              }"
      ],
      "metadata": {
        "id": "WraCFRKT0Ohg"
      },
      "execution_count": 156,
      "outputs": []
    },
    {
      "cell_type": "code",
      "source": [
        "gbc_optm = RandomizedSearchCV(estimator=gbc, param_distributions=param_grid,n_iter=10, verbose=3)\n",
        "gbc_optm.fit(X_train_sap, y_train_sap)"
      ],
      "metadata": {
        "colab": {
          "base_uri": "https://localhost:8080/"
        },
        "id": "1m9CzKr21Fl_",
        "outputId": "cdc09452-f385-456c-f4e7-e97e977382d8"
      },
      "execution_count": 158,
      "outputs": [
        {
          "output_type": "stream",
          "name": "stdout",
          "text": [
            "Fitting 5 folds for each of 10 candidates, totalling 50 fits\n",
            "[CV 1/5] END criterion=mae, learning_rate=0.3, loss=deviance, max_depth=19, max_leaf_nodes=9, min_samples_leaf=7, min_samples_split=3, n_estimators=150;, score=0.898 total time= 1.1min\n",
            "[CV 2/5] END criterion=mae, learning_rate=0.3, loss=deviance, max_depth=19, max_leaf_nodes=9, min_samples_leaf=7, min_samples_split=3, n_estimators=150;, score=0.888 total time= 1.1min\n",
            "[CV 3/5] END criterion=mae, learning_rate=0.3, loss=deviance, max_depth=19, max_leaf_nodes=9, min_samples_leaf=7, min_samples_split=3, n_estimators=150;, score=0.902 total time=  56.9s\n",
            "[CV 4/5] END criterion=mae, learning_rate=0.3, loss=deviance, max_depth=19, max_leaf_nodes=9, min_samples_leaf=7, min_samples_split=3, n_estimators=150;, score=0.911 total time= 1.0min\n",
            "[CV 5/5] END criterion=mae, learning_rate=0.3, loss=deviance, max_depth=19, max_leaf_nodes=9, min_samples_leaf=7, min_samples_split=3, n_estimators=150;, score=0.888 total time=  58.9s\n",
            "[CV 1/5] END criterion=squared_error, learning_rate=0.3, loss=deviance, max_depth=19, max_leaf_nodes=15, min_samples_leaf=9, min_samples_split=4, n_estimators=200;, score=0.971 total time=   2.0s\n",
            "[CV 2/5] END criterion=squared_error, learning_rate=0.3, loss=deviance, max_depth=19, max_leaf_nodes=15, min_samples_leaf=9, min_samples_split=4, n_estimators=200;, score=0.960 total time=   1.9s\n",
            "[CV 3/5] END criterion=squared_error, learning_rate=0.3, loss=deviance, max_depth=19, max_leaf_nodes=15, min_samples_leaf=9, min_samples_split=4, n_estimators=200;, score=0.973 total time=   1.9s\n",
            "[CV 4/5] END criterion=squared_error, learning_rate=0.3, loss=deviance, max_depth=19, max_leaf_nodes=15, min_samples_leaf=9, min_samples_split=4, n_estimators=200;, score=0.969 total time=   1.9s\n",
            "[CV 5/5] END criterion=squared_error, learning_rate=0.3, loss=deviance, max_depth=19, max_leaf_nodes=15, min_samples_leaf=9, min_samples_split=4, n_estimators=200;, score=0.963 total time=   1.8s\n",
            "[CV 1/5] END criterion=mae, learning_rate=0.1, loss=deviance, max_depth=9, max_leaf_nodes=18, min_samples_leaf=5, min_samples_split=8, n_estimators=300;, score=0.888 total time= 2.1min\n",
            "[CV 2/5] END criterion=mae, learning_rate=0.1, loss=deviance, max_depth=9, max_leaf_nodes=18, min_samples_leaf=5, min_samples_split=8, n_estimators=300;, score=0.926 total time= 2.5min\n",
            "[CV 3/5] END criterion=mae, learning_rate=0.1, loss=deviance, max_depth=9, max_leaf_nodes=18, min_samples_leaf=5, min_samples_split=8, n_estimators=300;, score=0.925 total time= 2.3min\n",
            "[CV 4/5] END criterion=mae, learning_rate=0.1, loss=deviance, max_depth=9, max_leaf_nodes=18, min_samples_leaf=5, min_samples_split=8, n_estimators=300;, score=0.929 total time= 2.3min\n",
            "[CV 5/5] END criterion=mae, learning_rate=0.1, loss=deviance, max_depth=9, max_leaf_nodes=18, min_samples_leaf=5, min_samples_split=8, n_estimators=300;, score=0.891 total time= 2.1min\n",
            "[CV 1/5] END criterion=squared_error, learning_rate=0.05, loss=exponential, max_depth=15, max_leaf_nodes=8, min_samples_leaf=1, min_samples_split=8, n_estimators=100;, score=0.963 total time=   0.8s\n",
            "[CV 2/5] END criterion=squared_error, learning_rate=0.05, loss=exponential, max_depth=15, max_leaf_nodes=8, min_samples_leaf=1, min_samples_split=8, n_estimators=100;, score=0.941 total time=   0.8s\n",
            "[CV 3/5] END criterion=squared_error, learning_rate=0.05, loss=exponential, max_depth=15, max_leaf_nodes=8, min_samples_leaf=1, min_samples_split=8, n_estimators=100;, score=0.962 total time=   0.8s\n",
            "[CV 4/5] END criterion=squared_error, learning_rate=0.05, loss=exponential, max_depth=15, max_leaf_nodes=8, min_samples_leaf=1, min_samples_split=8, n_estimators=100;, score=0.958 total time=   0.8s\n",
            "[CV 5/5] END criterion=squared_error, learning_rate=0.05, loss=exponential, max_depth=15, max_leaf_nodes=8, min_samples_leaf=1, min_samples_split=8, n_estimators=100;, score=0.950 total time=   0.8s\n",
            "[CV 1/5] END criterion=mae, learning_rate=0.5, loss=exponential, max_depth=13, max_leaf_nodes=12, min_samples_leaf=3, min_samples_split=7, n_estimators=150;, score=0.903 total time= 1.0min\n",
            "[CV 2/5] END criterion=mae, learning_rate=0.5, loss=exponential, max_depth=13, max_leaf_nodes=12, min_samples_leaf=3, min_samples_split=7, n_estimators=150;, score=0.901 total time= 1.2min\n",
            "[CV 3/5] END criterion=mae, learning_rate=0.5, loss=exponential, max_depth=13, max_leaf_nodes=12, min_samples_leaf=3, min_samples_split=7, n_estimators=150;, score=0.932 total time= 1.0min\n",
            "[CV 4/5] END criterion=mae, learning_rate=0.5, loss=exponential, max_depth=13, max_leaf_nodes=12, min_samples_leaf=3, min_samples_split=7, n_estimators=150;, score=0.931 total time= 1.1min\n",
            "[CV 5/5] END criterion=mae, learning_rate=0.5, loss=exponential, max_depth=13, max_leaf_nodes=12, min_samples_leaf=3, min_samples_split=7, n_estimators=150;, score=0.892 total time= 1.0min\n",
            "[CV 1/5] END criterion=friedman_mse, learning_rate=0.3, loss=deviance, max_depth=19, max_leaf_nodes=15, min_samples_leaf=9, min_samples_split=8, n_estimators=300;, score=0.970 total time=   2.8s\n",
            "[CV 2/5] END criterion=friedman_mse, learning_rate=0.3, loss=deviance, max_depth=19, max_leaf_nodes=15, min_samples_leaf=9, min_samples_split=8, n_estimators=300;, score=0.960 total time=   2.8s\n",
            "[CV 3/5] END criterion=friedman_mse, learning_rate=0.3, loss=deviance, max_depth=19, max_leaf_nodes=15, min_samples_leaf=9, min_samples_split=8, n_estimators=300;, score=0.973 total time=   2.7s\n",
            "[CV 4/5] END criterion=friedman_mse, learning_rate=0.3, loss=deviance, max_depth=19, max_leaf_nodes=15, min_samples_leaf=9, min_samples_split=8, n_estimators=300;, score=0.969 total time=   2.8s\n",
            "[CV 5/5] END criterion=friedman_mse, learning_rate=0.3, loss=deviance, max_depth=19, max_leaf_nodes=15, min_samples_leaf=9, min_samples_split=8, n_estimators=300;, score=0.966 total time=   2.7s\n",
            "[CV 1/5] END criterion=squared_error, learning_rate=0.2, loss=exponential, max_depth=13, max_leaf_nodes=6, min_samples_leaf=9, min_samples_split=3, n_estimators=150;, score=0.967 total time=   1.0s\n",
            "[CV 2/5] END criterion=squared_error, learning_rate=0.2, loss=exponential, max_depth=13, max_leaf_nodes=6, min_samples_leaf=9, min_samples_split=3, n_estimators=150;, score=0.952 total time=   1.0s\n",
            "[CV 3/5] END criterion=squared_error, learning_rate=0.2, loss=exponential, max_depth=13, max_leaf_nodes=6, min_samples_leaf=9, min_samples_split=3, n_estimators=150;, score=0.966 total time=   1.0s\n",
            "[CV 4/5] END criterion=squared_error, learning_rate=0.2, loss=exponential, max_depth=13, max_leaf_nodes=6, min_samples_leaf=9, min_samples_split=3, n_estimators=150;, score=0.973 total time=   1.0s\n",
            "[CV 5/5] END criterion=squared_error, learning_rate=0.2, loss=exponential, max_depth=13, max_leaf_nodes=6, min_samples_leaf=9, min_samples_split=3, n_estimators=150;, score=0.955 total time=   1.0s\n",
            "[CV 1/5] END criterion=mse, learning_rate=0.4, loss=exponential, max_depth=7, max_leaf_nodes=12, min_samples_leaf=11, min_samples_split=3, n_estimators=300;, score=0.970 total time=   2.6s\n",
            "[CV 2/5] END criterion=mse, learning_rate=0.4, loss=exponential, max_depth=7, max_leaf_nodes=12, min_samples_leaf=11, min_samples_split=3, n_estimators=300;, score=0.962 total time=   2.6s\n",
            "[CV 3/5] END criterion=mse, learning_rate=0.4, loss=exponential, max_depth=7, max_leaf_nodes=12, min_samples_leaf=11, min_samples_split=3, n_estimators=300;, score=0.973 total time=   2.6s\n",
            "[CV 4/5] END criterion=mse, learning_rate=0.4, loss=exponential, max_depth=7, max_leaf_nodes=12, min_samples_leaf=11, min_samples_split=3, n_estimators=300;, score=0.971 total time=   2.6s\n",
            "[CV 5/5] END criterion=mse, learning_rate=0.4, loss=exponential, max_depth=7, max_leaf_nodes=12, min_samples_leaf=11, min_samples_split=3, n_estimators=300;, score=0.958 total time=   2.5s\n",
            "[CV 1/5] END criterion=friedman_mse, learning_rate=0.2, loss=exponential, max_depth=13, max_leaf_nodes=8, min_samples_leaf=9, min_samples_split=8, n_estimators=250;, score=0.969 total time=   1.9s\n",
            "[CV 2/5] END criterion=friedman_mse, learning_rate=0.2, loss=exponential, max_depth=13, max_leaf_nodes=8, min_samples_leaf=9, min_samples_split=8, n_estimators=250;, score=0.955 total time=   1.9s\n",
            "[CV 3/5] END criterion=friedman_mse, learning_rate=0.2, loss=exponential, max_depth=13, max_leaf_nodes=8, min_samples_leaf=9, min_samples_split=8, n_estimators=250;, score=0.970 total time=   1.8s\n",
            "[CV 4/5] END criterion=friedman_mse, learning_rate=0.2, loss=exponential, max_depth=13, max_leaf_nodes=8, min_samples_leaf=9, min_samples_split=8, n_estimators=250;, score=0.970 total time=   1.9s\n",
            "[CV 5/5] END criterion=friedman_mse, learning_rate=0.2, loss=exponential, max_depth=13, max_leaf_nodes=8, min_samples_leaf=9, min_samples_split=8, n_estimators=250;, score=0.954 total time=   1.8s\n",
            "[CV 1/5] END criterion=squared_error, learning_rate=0.2, loss=exponential, max_depth=9, max_leaf_nodes=8, min_samples_leaf=13, min_samples_split=3, n_estimators=300;, score=0.971 total time=   2.3s\n",
            "[CV 2/5] END criterion=squared_error, learning_rate=0.2, loss=exponential, max_depth=9, max_leaf_nodes=8, min_samples_leaf=13, min_samples_split=3, n_estimators=300;, score=0.956 total time=   2.3s\n",
            "[CV 3/5] END criterion=squared_error, learning_rate=0.2, loss=exponential, max_depth=9, max_leaf_nodes=8, min_samples_leaf=13, min_samples_split=3, n_estimators=300;, score=0.965 total time=   2.2s\n",
            "[CV 4/5] END criterion=squared_error, learning_rate=0.2, loss=exponential, max_depth=9, max_leaf_nodes=8, min_samples_leaf=13, min_samples_split=3, n_estimators=300;, score=0.977 total time=   2.2s\n",
            "[CV 5/5] END criterion=squared_error, learning_rate=0.2, loss=exponential, max_depth=9, max_leaf_nodes=8, min_samples_leaf=13, min_samples_split=3, n_estimators=300;, score=0.959 total time=   2.2s\n"
          ]
        },
        {
          "output_type": "execute_result",
          "data": {
            "text/plain": [
              "RandomizedSearchCV(estimator=GradientBoostingClassifier(),\n",
              "                   param_distributions={'criterion': ['friedman_mse',\n",
              "                                                      'squared_error', 'mse',\n",
              "                                                      'mae'],\n",
              "                                        'learning_rate': [0.05, 0.1, 0.2, 0.3,\n",
              "                                                          0.4, 0.5],\n",
              "                                        'loss': ['deviance', 'exponential'],\n",
              "                                        'max_depth': [3, 5, 7, 9, 11, 13, 15,\n",
              "                                                      17, 19],\n",
              "                                        'max_leaf_nodes': [3, 6, 8, 9, 12, 15,\n",
              "                                                           18, 24],\n",
              "                                        'min_samples_leaf': [1, 3, 5, 7, 9, 11,\n",
              "                                                             13, 15],\n",
              "                                        'min_samples_split': [2, 3, 4, 5, 6, 7,\n",
              "                                                              8, 9, 10],\n",
              "                                        'n_estimators': [100, 150, 200, 250,\n",
              "                                                         300]},\n",
              "                   verbose=3)"
            ]
          },
          "metadata": {},
          "execution_count": 158
        }
      ]
    },
    {
      "cell_type": "code",
      "source": [
        "gbc_optm.best_estimator_"
      ],
      "metadata": {
        "colab": {
          "base_uri": "https://localhost:8080/"
        },
        "id": "IJtlaYrOJkXr",
        "outputId": "905ebcc4-09f3-4ee0-cc92-7300e2a1d77f"
      },
      "execution_count": 159,
      "outputs": [
        {
          "output_type": "execute_result",
          "data": {
            "text/plain": [
              "GradientBoostingClassifier(learning_rate=0.3, max_depth=19, max_leaf_nodes=15,\n",
              "                           min_samples_leaf=9, min_samples_split=8,\n",
              "                           n_estimators=300)"
            ]
          },
          "metadata": {},
          "execution_count": 159
        }
      ]
    },
    {
      "cell_type": "code",
      "source": [
        "# GradientBoostingClassifier\n",
        "gbc_tunning = GradientBoostingClassifier(criterion='squared_error', learning_rate=0.3,\n",
        "                           max_depth=19, max_leaf_nodes=15, min_samples_leaf=9,\n",
        "                           min_samples_split=8, n_estimators=300)\n",
        "gbc_tunning.fit(X_train_sap, y_train_sap)\n",
        "pred = gbc_tunning.predict(X_test_sap)\n",
        "\n",
        "print(f'Accuracy score : {accuracy_score(pred, y_test_sap)}')\n",
        "print(f'Confusion matrix :\\n {confusion_matrix(pred, y_test_sap)}')\n",
        "print(f'Classification report :\\n {classification_report(pred, y_test_sap)}')"
      ],
      "metadata": {
        "colab": {
          "base_uri": "https://localhost:8080/"
        },
        "id": "kwPtBJX9Jpqe",
        "outputId": "e2d2e43c-be4e-4e7c-fa85-b1d46d787b3d"
      },
      "execution_count": 160,
      "outputs": [
        {
          "output_type": "stream",
          "name": "stdout",
          "text": [
            "Accuracy score : 0.9629629629629629\n",
            "Confusion matrix :\n",
            " [[414  14]\n",
            " [ 20 470]]\n",
            "Classification report :\n",
            "               precision    recall  f1-score   support\n",
            "\n",
            "           0       0.95      0.97      0.96       428\n",
            "           1       0.97      0.96      0.97       490\n",
            "\n",
            "    accuracy                           0.96       918\n",
            "   macro avg       0.96      0.96      0.96       918\n",
            "weighted avg       0.96      0.96      0.96       918\n",
            "\n"
          ]
        }
      ]
    },
    {
      "cell_type": "code",
      "source": [
        "gbc_tunning.score(X_test_sap, y_test_sap)"
      ],
      "metadata": {
        "colab": {
          "base_uri": "https://localhost:8080/"
        },
        "id": "rldIkvUcKCW8",
        "outputId": "a478d475-a740-4c8f-a219-b9f8352a8d50"
      },
      "execution_count": 161,
      "outputs": [
        {
          "output_type": "execute_result",
          "data": {
            "text/plain": [
              "0.9629629629629629"
            ]
          },
          "metadata": {},
          "execution_count": 161
        }
      ]
    },
    {
      "cell_type": "code",
      "source": [
        "test_input = X_test_sap.iloc[[0]]\n",
        "test_input.head()"
      ],
      "metadata": {
        "colab": {
          "base_uri": "https://localhost:8080/",
          "height": 179
        },
        "id": "ruGyxC6FKZQA",
        "outputId": "fb4ed6d6-99d2-4cc9-ae72-27e8fcd793fc"
      },
      "execution_count": 178,
      "outputs": [
        {
          "output_type": "execute_result",
          "data": {
            "text/html": [
              "\n",
              "  <div id=\"df-fa8c563c-8de7-4a13-b186-84cd5e3346f1\">\n",
              "    <div class=\"colab-df-container\">\n",
              "      <div>\n",
              "<style scoped>\n",
              "    .dataframe tbody tr th:only-of-type {\n",
              "        vertical-align: middle;\n",
              "    }\n",
              "\n",
              "    .dataframe tbody tr th {\n",
              "        vertical-align: top;\n",
              "    }\n",
              "\n",
              "    .dataframe thead th {\n",
              "        text-align: right;\n",
              "    }\n",
              "</style>\n",
              "<table border=\"1\" class=\"dataframe\">\n",
              "  <thead>\n",
              "    <tr style=\"text-align: right;\">\n",
              "      <th></th>\n",
              "      <th>SeniorCitizen</th>\n",
              "      <th>tenure</th>\n",
              "      <th>MonthlyCharges</th>\n",
              "      <th>TotalCharges</th>\n",
              "      <th>Dependents_No</th>\n",
              "      <th>Dependents_Yes</th>\n",
              "      <th>PhoneService_No</th>\n",
              "      <th>PhoneService_Yes</th>\n",
              "      <th>gender_Female</th>\n",
              "      <th>gender_Male</th>\n",
              "      <th>InternetService_DSL</th>\n",
              "      <th>InternetService_Fiber optic</th>\n",
              "      <th>InternetService_No</th>\n",
              "      <th>PaymentMethod_Bank transfer (automatic)</th>\n",
              "      <th>PaymentMethod_Credit card (automatic)</th>\n",
              "      <th>PaymentMethod_Electronic check</th>\n",
              "      <th>PaymentMethod_Mailed check</th>\n",
              "      <th>StreamingTV_No</th>\n",
              "      <th>StreamingTV_No internet service</th>\n",
              "      <th>StreamingTV_Yes</th>\n",
              "      <th>OnlineBackup_No</th>\n",
              "      <th>OnlineBackup_No internet service</th>\n",
              "      <th>OnlineBackup_Yes</th>\n",
              "      <th>PaperlessBilling_No</th>\n",
              "      <th>PaperlessBilling_Yes</th>\n",
              "      <th>StreamingMovies_No</th>\n",
              "      <th>StreamingMovies_No internet service</th>\n",
              "      <th>StreamingMovies_Yes</th>\n",
              "      <th>TechSupport_No</th>\n",
              "      <th>TechSupport_No internet service</th>\n",
              "      <th>TechSupport_Yes</th>\n",
              "      <th>DeviceProtection_No</th>\n",
              "      <th>DeviceProtection_No internet service</th>\n",
              "      <th>DeviceProtection_Yes</th>\n",
              "      <th>OnlineSecurity_No</th>\n",
              "      <th>OnlineSecurity_No internet service</th>\n",
              "      <th>OnlineSecurity_Yes</th>\n",
              "      <th>Contract_Month-to-month</th>\n",
              "      <th>Contract_One year</th>\n",
              "      <th>Contract_Two year</th>\n",
              "      <th>Partner_No</th>\n",
              "      <th>Partner_Yes</th>\n",
              "      <th>MultipleLines_No</th>\n",
              "      <th>MultipleLines_No phone service</th>\n",
              "      <th>MultipleLines_Yes</th>\n",
              "    </tr>\n",
              "  </thead>\n",
              "  <tbody>\n",
              "    <tr>\n",
              "      <th>1676</th>\n",
              "      <td>0</td>\n",
              "      <td>34</td>\n",
              "      <td>19.7</td>\n",
              "      <td>675.6</td>\n",
              "      <td>1</td>\n",
              "      <td>0</td>\n",
              "      <td>0</td>\n",
              "      <td>1</td>\n",
              "      <td>0</td>\n",
              "      <td>1</td>\n",
              "      <td>0</td>\n",
              "      <td>0</td>\n",
              "      <td>1</td>\n",
              "      <td>0</td>\n",
              "      <td>0</td>\n",
              "      <td>0</td>\n",
              "      <td>1</td>\n",
              "      <td>0</td>\n",
              "      <td>1</td>\n",
              "      <td>0</td>\n",
              "      <td>0</td>\n",
              "      <td>1</td>\n",
              "      <td>0</td>\n",
              "      <td>1</td>\n",
              "      <td>0</td>\n",
              "      <td>0</td>\n",
              "      <td>1</td>\n",
              "      <td>0</td>\n",
              "      <td>0</td>\n",
              "      <td>1</td>\n",
              "      <td>0</td>\n",
              "      <td>0</td>\n",
              "      <td>1</td>\n",
              "      <td>0</td>\n",
              "      <td>0</td>\n",
              "      <td>1</td>\n",
              "      <td>0</td>\n",
              "      <td>1</td>\n",
              "      <td>0</td>\n",
              "      <td>0</td>\n",
              "      <td>1</td>\n",
              "      <td>0</td>\n",
              "      <td>1</td>\n",
              "      <td>0</td>\n",
              "      <td>0</td>\n",
              "    </tr>\n",
              "  </tbody>\n",
              "</table>\n",
              "</div>\n",
              "      <button class=\"colab-df-convert\" onclick=\"convertToInteractive('df-fa8c563c-8de7-4a13-b186-84cd5e3346f1')\"\n",
              "              title=\"Convert this dataframe to an interactive table.\"\n",
              "              style=\"display:none;\">\n",
              "        \n",
              "  <svg xmlns=\"http://www.w3.org/2000/svg\" height=\"24px\"viewBox=\"0 0 24 24\"\n",
              "       width=\"24px\">\n",
              "    <path d=\"M0 0h24v24H0V0z\" fill=\"none\"/>\n",
              "    <path d=\"M18.56 5.44l.94 2.06.94-2.06 2.06-.94-2.06-.94-.94-2.06-.94 2.06-2.06.94zm-11 1L8.5 8.5l.94-2.06 2.06-.94-2.06-.94L8.5 2.5l-.94 2.06-2.06.94zm10 10l.94 2.06.94-2.06 2.06-.94-2.06-.94-.94-2.06-.94 2.06-2.06.94z\"/><path d=\"M17.41 7.96l-1.37-1.37c-.4-.4-.92-.59-1.43-.59-.52 0-1.04.2-1.43.59L10.3 9.45l-7.72 7.72c-.78.78-.78 2.05 0 2.83L4 21.41c.39.39.9.59 1.41.59.51 0 1.02-.2 1.41-.59l7.78-7.78 2.81-2.81c.8-.78.8-2.07 0-2.86zM5.41 20L4 18.59l7.72-7.72 1.47 1.35L5.41 20z\"/>\n",
              "  </svg>\n",
              "      </button>\n",
              "      \n",
              "  <style>\n",
              "    .colab-df-container {\n",
              "      display:flex;\n",
              "      flex-wrap:wrap;\n",
              "      gap: 12px;\n",
              "    }\n",
              "\n",
              "    .colab-df-convert {\n",
              "      background-color: #E8F0FE;\n",
              "      border: none;\n",
              "      border-radius: 50%;\n",
              "      cursor: pointer;\n",
              "      display: none;\n",
              "      fill: #1967D2;\n",
              "      height: 32px;\n",
              "      padding: 0 0 0 0;\n",
              "      width: 32px;\n",
              "    }\n",
              "\n",
              "    .colab-df-convert:hover {\n",
              "      background-color: #E2EBFA;\n",
              "      box-shadow: 0px 1px 2px rgba(60, 64, 67, 0.3), 0px 1px 3px 1px rgba(60, 64, 67, 0.15);\n",
              "      fill: #174EA6;\n",
              "    }\n",
              "\n",
              "    [theme=dark] .colab-df-convert {\n",
              "      background-color: #3B4455;\n",
              "      fill: #D2E3FC;\n",
              "    }\n",
              "\n",
              "    [theme=dark] .colab-df-convert:hover {\n",
              "      background-color: #434B5C;\n",
              "      box-shadow: 0px 1px 3px 1px rgba(0, 0, 0, 0.15);\n",
              "      filter: drop-shadow(0px 1px 2px rgba(0, 0, 0, 0.3));\n",
              "      fill: #FFFFFF;\n",
              "    }\n",
              "  </style>\n",
              "\n",
              "      <script>\n",
              "        const buttonEl =\n",
              "          document.querySelector('#df-fa8c563c-8de7-4a13-b186-84cd5e3346f1 button.colab-df-convert');\n",
              "        buttonEl.style.display =\n",
              "          google.colab.kernel.accessAllowed ? 'block' : 'none';\n",
              "\n",
              "        async function convertToInteractive(key) {\n",
              "          const element = document.querySelector('#df-fa8c563c-8de7-4a13-b186-84cd5e3346f1');\n",
              "          const dataTable =\n",
              "            await google.colab.kernel.invokeFunction('convertToInteractive',\n",
              "                                                     [key], {});\n",
              "          if (!dataTable) return;\n",
              "\n",
              "          const docLinkHtml = 'Like what you see? Visit the ' +\n",
              "            '<a target=\"_blank\" href=https://colab.research.google.com/notebooks/data_table.ipynb>data table notebook</a>'\n",
              "            + ' to learn more about interactive tables.';\n",
              "          element.innerHTML = '';\n",
              "          dataTable['output_type'] = 'display_data';\n",
              "          await google.colab.output.renderOutput(dataTable, element);\n",
              "          const docLink = document.createElement('div');\n",
              "          docLink.innerHTML = docLinkHtml;\n",
              "          element.appendChild(docLink);\n",
              "        }\n",
              "      </script>\n",
              "    </div>\n",
              "  </div>\n",
              "  "
            ],
            "text/plain": [
              "      SeniorCitizen  tenure  ...  MultipleLines_No phone service  MultipleLines_Yes\n",
              "1676              0      34  ...                               0                  0\n",
              "\n",
              "[1 rows x 45 columns]"
            ]
          },
          "metadata": {},
          "execution_count": 178
        }
      ]
    },
    {
      "cell_type": "code",
      "source": [
        "single = gbc_tunning.predict(test_input)\n"
      ],
      "metadata": {
        "id": "caw03vesKuem"
      },
      "execution_count": 182,
      "outputs": []
    },
    {
      "cell_type": "code",
      "source": [
        "print(single)"
      ],
      "metadata": {
        "colab": {
          "base_uri": "https://localhost:8080/"
        },
        "id": "xFE5-vHDMcfH",
        "outputId": "7802c6dd-3266-42ef-fadc-0644cf9f626c"
      },
      "execution_count": 180,
      "outputs": [
        {
          "output_type": "stream",
          "name": "stdout",
          "text": [
            "[0]\n"
          ]
        }
      ]
    },
    {
      "cell_type": "code",
      "source": [
        "if single == 1:\n",
        "    print(\"This Customer is likely to be Churned!\")\n",
        "else:\n",
        "    print(\"This Customer is likely to be Continue!\")"
      ],
      "metadata": {
        "colab": {
          "base_uri": "https://localhost:8080/"
        },
        "id": "rTOdYA5aMdjX",
        "outputId": "7cd79269-0cc4-4f98-b07c-de7f2d4af74d"
      },
      "execution_count": 185,
      "outputs": [
        {
          "output_type": "stream",
          "name": "stdout",
          "text": [
            "This Customer is likely to be Continue!\n"
          ]
        }
      ]
    }
  ]
}